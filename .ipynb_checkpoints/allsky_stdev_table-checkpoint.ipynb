{
 "cells": [
  {
   "cell_type": "code",
   "execution_count": 1,
   "id": "783d6b04-c207-4daa-891f-488396e2381a",
   "metadata": {
    "tags": []
   },
   "outputs": [],
   "source": [
    "# examinations of the all-sky error table for AMSUA/ATMS\n",
    "# initial built: ?\n",
    "# modified: 2024/10/09\n",
    "\n",
    "import numpy as np\n",
    "import matplotlib\n",
    "import matplotlib.pyplot as plt\n",
    "import pandas as pd\n",
    "import pickle\n",
    "from scipy.optimize import curve_fit\n",
    "from scipy.interpolate import interp1d"
   ]
  },
  {
   "cell_type": "code",
   "execution_count": 2,
   "id": "7737c899-4da9-408c-a461-b9c7f64e71e2",
   "metadata": {
    "tags": []
   },
   "outputs": [],
   "source": [
    "instrument = 'amsua'\n",
    "channel    = 'ch1'"
   ]
  },
  {
   "cell_type": "code",
   "execution_count": 3,
   "id": "448a8c91-3962-4c66-ac0f-a9a8e35ae23b",
   "metadata": {
    "tags": []
   },
   "outputs": [],
   "source": [
    "fn = f'/scratch2/GFDL/gfdlscr/Chih-Chi.Hu/compile_radstats/csv_files/default_used_to_build_pdfs/omf_stats_{instrument}_{channel}.csv'\n",
    "df = pd.read_csv(fn)"
   ]
  },
  {
   "cell_type": "code",
   "execution_count": 4,
   "id": "b5563d05-d6ac-419e-9ddd-56f322a7fd86",
   "metadata": {
    "tags": []
   },
   "outputs": [
    {
     "name": "stdout",
     "output_type": "stream",
     "text": [
      "<class 'pandas.core.frame.DataFrame'>\n",
      "RangeIndex: 18327123 entries, 0 to 18327122\n",
      "Data columns (total 13 columns):\n",
      " #   Column      Dtype  \n",
      "---  ------      -----  \n",
      " 0   sensor      object \n",
      " 1   lat         float64\n",
      " 2   lon         float64\n",
      " 3   channel     int64  \n",
      " 4   scana       float64\n",
      " 5   qcmark      float64\n",
      " 6   fwater      float64\n",
      " 7   fland       float64\n",
      " 8   omf_ges     float64\n",
      " 9   errinv_ges  float64\n",
      " 10  symerr_ges  float64\n",
      " 11  clw_obs     float64\n",
      " 12  clw_bg_ges  float64\n",
      "dtypes: float64(11), int64(1), object(1)\n",
      "memory usage: 1.8+ GB\n"
     ]
    }
   ],
   "source": [
    "df.info()\n",
    "#df.describe()"
   ]
  },
  {
   "cell_type": "code",
   "execution_count": null,
   "id": "51f78bce-2621-4801-b986-8cdf14f187ee",
   "metadata": {},
   "outputs": [],
   "source": []
  }
 ],
 "metadata": {
  "kernelspec": {
   "display_name": "Python 3 (ipykernel)",
   "language": "python",
   "name": "python3"
  },
  "language_info": {
   "codemirror_mode": {
    "name": "ipython",
    "version": 3
   },
   "file_extension": ".py",
   "mimetype": "text/x-python",
   "name": "python",
   "nbconvert_exporter": "python",
   "pygments_lexer": "ipython3",
   "version": "3.8.18"
  }
 },
 "nbformat": 4,
 "nbformat_minor": 5
}
