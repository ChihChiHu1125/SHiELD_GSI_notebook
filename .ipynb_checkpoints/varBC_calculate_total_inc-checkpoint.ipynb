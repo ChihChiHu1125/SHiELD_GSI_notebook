{
 "cells": [
  {
   "cell_type": "code",
   "execution_count": 1,
   "id": "29ff5a5b-6f74-4e85-a17c-72d4b2ca635d",
   "metadata": {
    "tags": []
   },
   "outputs": [],
   "source": [
    "# calculate the (spatially averaged) total varBC increment time series\n",
    "# initial built: 2024/08/21\n",
    "\n",
    "import netCDF4 as nc\n",
    "import numpy as np\n",
    "import matplotlib.pyplot as plt\n",
    "from matplotlib.colors import LinearSegmentedColormap\n",
    "from datetime import datetime, timedelta\n"
   ]
  },
  {
   "cell_type": "code",
   "execution_count": 2,
   "id": "6990c920-1b4a-4260-879b-7b724977f95a",
   "metadata": {},
   "outputs": [],
   "source": [
    "#exps=['ctrl','ctrl_noinf']\n",
    "#exps=['only_clr_clr', 'clr_clr_and_cld_cld_0.05',   'clr_clr_and_cld_cld_0.05_varbcpred_sym_cld', \\\n",
    "#      'clr_clr_and_cld_cld_0.05_varbcpred_obs_cld', 'clr_clr_and_cld_cld_0.05_varbcpred_model_cld']\n",
    "#exps=['clr_clr_and_cld_cld_0.05_noinf',  'clr_clr_and_cld_cld_0.05_varbcpred_sym_cld_noinf', \\\n",
    "#      'clr_clr_and_cld_cld_0.05_varbcpred_obs_cld_noinf', 'clr_clr_and_cld_cld_0.05_varbcpred_model_cld_noinf']\n",
    "#exps=['clr_clr_and_cld_cld_0.05_varbcpred_model_cld_nobc']\n",
    "#exps=['only_clr_clr_noinf']\n",
    "exps=['clr_clr_and_cld_cld_0.05_varbcpred_obs_cld_noinf']\n",
    "\n",
    "root_dir='/scratch2/GFDL/gfdlscr/Chih-Chi.Hu/scrub/radstats/'\n",
    "instr = 'amsua_n15'\n",
    "#instr ='atms_n20'\n",
    "if instr.split(\"_\")[0] == 'amsua':\n",
    "    chanls=[1,2,3,4,5,6,7,8,9,10,12,13,15]\n",
    "elif instr.split(\"_\")[0] == 'atms':\n",
    "    chanls=[1,2,3,4,5,6,7,8,9,10,11,12,13,14,15,16,17,18,19,20,21,22]\n",
    "\n",
    "init_time  = datetime(2022, 6, 10, 0, 0, 0)  # Year, month, day, hour, minute, second\n",
    "final_time = datetime(2022, 7, 20, 0, 0, 0)  # Year, month, day, hour, minute, second\n",
    "dt         = 6 # in hours"
   ]
  },
  {
   "cell_type": "code",
   "execution_count": 20,
   "id": "f899325a-538d-4191-a415-461d0476bf30",
   "metadata": {
    "tags": []
   },
   "outputs": [],
   "source": [
    "if 'ctrl' in exps or 'ctrl_noinf' in exps:\n",
    "    if instr.split(\"_\")[0] == 'amsua':\n",
    "        clear_cld = {1: 0.03, 2: 0.03, 3:0.03, 4:0.03, 5:0.0, 15: 0.03}\n",
    "    elif instr.split(\"_\")[0] == 'atms':\n",
    "        clear_cld = {1: 0.03, 2: 0.03, 3:0.03, 4:0.03, 5:0.0, 6:0.03, 16:0.03, 17: 0.03, 18:0.03, 19:0.03, 20:0.03, 21:0.03, 22:0.03}\n",
    "else:\n",
    "    if instr.split(\"_\")[0] == 'amsua':\n",
    "        clear_cld = {1: 0.03, 2: 0.03, 3:0.03, 4:0.03, 5:0.03, 15: 0.03}\n",
    "    elif instr.split(\"_\")[0] == 'atms':\n",
    "        clear_cld = {1: 0.03, 2: 0.03, 3:0.03, 4:0.03, 5:0.03, 6:0.03, 16:0.03, 17: 0.03, 18:0.03, 19:0.03, 20:0.03, 21:0.03, 22:0.03}"
   ]
  },
  {
   "cell_type": "code",
   "execution_count": 21,
   "id": "afbda50c-b4fb-4e76-9846-bf7d15817101",
   "metadata": {
    "tags": []
   },
   "outputs": [
    {
     "name": "stdout",
     "output_type": "stream",
     "text": [
      "processing /scratch2/GFDL/gfdlscr/Chih-Chi.Hu/scrub/radstats//atms/clr_clr_and_cld_cld_0.05_varbcpred_obs_cld_noinf/...\n"
     ]
    }
   ],
   "source": [
    "total_bc_inc={};\n",
    "global_offset={};\n",
    "obs_num_total={};\n",
    "obs_num_varbc={};\n",
    "datetime_str=[];\n",
    "\n",
    "#obs_num_test={};\n",
    "\n",
    "for e, exp in enumerate(exps):\n",
    "    nc_dir=f'{root_dir}/{instr.split(\"_\")[0]}/{exp}/'\n",
    "    print(f'processing {nc_dir}...')\n",
    "\n",
    "    current_time = init_time\n",
    "    while current_time <= final_time:\n",
    "        format_time  = current_time.strftime(\"%Y%m%d%H\")\n",
    "        if e==0:\n",
    "            datetime_str.append(format_time)\n",
    "\n",
    "        ncfile = f'{nc_dir}/diag_{instr}_anl.{format_time}.nc4'\n",
    "        fn     = nc.Dataset(ncfile)\n",
    "\n",
    "        # read ncfile:\n",
    "        omf       = fn.variables['Obs_Minus_Forecast_adjusted'][:]\n",
    "        omfnbc    = fn.variables['Obs_Minus_Forecast_unadjusted'][:]\n",
    "        clw_obs   = fn.variables['clw_obs'][:]\n",
    "        clw_model = fn.variables['clw_guess_retrieval'][:]\n",
    "        fwater    = fn.variables['Water_Fraction'][:]\n",
    "        ch        = fn.variables['Channel_Index'][:]\n",
    "        qc        = fn.variables['QC_Flag'][:]\n",
    "        bccnst    = fn.variables['BC_Constant'][:]\n",
    "        \n",
    "        #varbc_ct  = fn.variables['VarBC_Data_Control_Index'][:]\n",
    "        \n",
    "\n",
    "        for chanl in chanls:            \n",
    "            use = np.where( (qc == 0)&(ch==chanl) )\n",
    "            #use = np.where( (qc == 0)&(ch==chanl)&(fwater>=0.99) )\n",
    "            \n",
    "            # check if the observation goes into varbc minimization:\n",
    "            if chanl in clear_cld:\n",
    "                if exp in ('ctrl','ctrl_noinf'):\n",
    "                    use_varbc = np.where(  ~( ((clw_obs - clear_cld[chanl])*(clw_model- clear_cld[chanl])<0)   & \\\n",
    "                                              (abs(clw_obs - clw_model)>=0.005)                              ) & \\\n",
    "                                            (qc == 0)&(ch==chanl) )\n",
    "                elif exp.startswith('only_clr_clr'):\n",
    "                    use_varbc = np.where(  ~( (clw_obs > clear_cld[chanl]) | (clw_model > clear_cld[chanl])  ) & \\\n",
    "                                            (qc == 0)&(ch==chanl) )\n",
    "                elif exp.startswith('clr_clr_and_cld_cld_0.05'):\n",
    "                    use_varbc = np.where(  ~( ((clw_obs - clear_cld[chanl])*(clw_model- clear_cld[chanl])<0)   | \\\n",
    "                                              (abs(clw_obs - clw_model)>=0.05 )                              ) & \\\n",
    "                                            (qc == 0)&(ch==chanl) )\n",
    "                        \n",
    "            else:\n",
    "                use_varbc = tuple(arr.copy() for arr in use)\n",
    "            \n",
    "            # Initialize the key if it doesn't exist\n",
    "            key = f'{exp}_{instr}_ch{chanl}'\n",
    "            total_bc_inc.setdefault(key, [])\n",
    "            global_offset.setdefault(key, [])\n",
    "            obs_num_total.setdefault(key, [])\n",
    "            obs_num_varbc.setdefault(key, [])\n",
    "            #obs_num_test.setdefault(key, [])\n",
    "\n",
    "            # Append the mean difference to total_bc_inc\n",
    "            total_bc_inc[key].append(np.mean(omfnbc[use] - omf[use]))\n",
    "            global_offset[key].append(np.mean(bccnst[use]))\n",
    "            obs_num_total[key].append(len(use[0]))\n",
    "            obs_num_varbc[key].append(len(use_varbc[0]))\n",
    "            #obs_num_test [key].append(sum(varbc_ct[use]))\n",
    "\n",
    "        # progress to the next time step\n",
    "        current_time = current_time + timedelta(hours=dt)\n"
   ]
  },
  {
   "cell_type": "code",
   "execution_count": null,
   "id": "e36cf19d-a73e-43e4-8e7f-c46ec0be1526",
   "metadata": {},
   "outputs": [],
   "source": []
  },
  {
   "cell_type": "code",
   "execution_count": null,
   "id": "a2c7e9d5-a291-4086-9806-ffd3b4136c53",
   "metadata": {},
   "outputs": [],
   "source": []
  },
  {
   "cell_type": "code",
   "execution_count": 22,
   "id": "2694c72f-3445-4d16-bf0d-3b43ba144086",
   "metadata": {
    "tags": []
   },
   "outputs": [],
   "source": [
    "# save the numbers into txt files:\n",
    "\n",
    "# Save the list into a text file\n",
    "for exp in exps:\n",
    "    for chanl in chanls:\n",
    "        output_dir=f'/scratch2/GFDL/gfdlscr/Chih-Chi.Hu/varbc_coeff/compiled_stats/{exp}'\n",
    "        output_fn_total_bc      = f'{output_dir}/{instr}_ch{chanl}_total_bc'\n",
    "        output_fn_total_obs_num = f'{output_dir}/{instr}_ch{chanl}_obs_num'\n",
    "\n",
    "        with open(output_fn_total_bc, 'w') as f:\n",
    "            for tt, time in enumerate(datetime_str):\n",
    "                key=f'{exp}_{instr}_ch{chanl}'\n",
    "                f.write(f\"{time} {chanl} {instr} {total_bc_inc[key][tt]} {global_offset[key][tt]} \\n\")\n",
    "                \n",
    "        with open(output_fn_total_obs_num, 'w') as f:\n",
    "            for tt, time in enumerate(datetime_str):\n",
    "                key=f'{exp}_{instr}_ch{chanl}'\n",
    "                f.write(f\"{time} {chanl} {instr} {obs_num_total[key][tt]} {obs_num_varbc[key][tt]} \\n\")"
   ]
  },
  {
   "cell_type": "code",
   "execution_count": null,
   "id": "99d0b8eb-d710-4a1f-b3d1-7756deda09fc",
   "metadata": {
    "tags": []
   },
   "outputs": [],
   "source": [
    "global_offset"
   ]
  },
  {
   "cell_type": "code",
   "execution_count": null,
   "id": "68a71a6f-4f34-4a1c-90f4-170075ff6533",
   "metadata": {
    "tags": []
   },
   "outputs": [],
   "source": [
    "obs_num"
   ]
  }
 ],
 "metadata": {
  "kernelspec": {
   "display_name": "Python 3 (ipykernel)",
   "language": "python",
   "name": "python3"
  },
  "language_info": {
   "codemirror_mode": {
    "name": "ipython",
    "version": 3
   },
   "file_extension": ".py",
   "mimetype": "text/x-python",
   "name": "python",
   "nbconvert_exporter": "python",
   "pygments_lexer": "ipython3",
   "version": "3.8.18"
  }
 },
 "nbformat": 4,
 "nbformat_minor": 5
}
