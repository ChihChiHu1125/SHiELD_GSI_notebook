{
 "cells": [
  {
   "cell_type": "code",
   "execution_count": 10,
   "id": "4b8698de-2fda-4f72-838a-05807229a1da",
   "metadata": {
    "tags": []
   },
   "outputs": [],
   "source": [
    "# examine ensemble covariances from ensemble zonal mean files:\n",
    "# initial built: 2024/10/10\n",
    "\n",
    "import numpy as np\n",
    "import os\n",
    "import matplotlib\n",
    "import matplotlib.pyplot as plt\n",
    "import pickle\n",
    "from datetime import datetime, timedelta"
   ]
  },
  {
   "cell_type": "code",
   "execution_count": 11,
   "id": "ba63e97f-236d-42a1-becf-bc3002e2060e",
   "metadata": {},
   "outputs": [],
   "source": [
    "pkfile = 'zonal_mean_ensemble_2022062000.pkl'"
   ]
  },
  {
   "cell_type": "code",
   "execution_count": 12,
   "id": "e628beea-5d30-419b-9ad4-681ed21746d4",
   "metadata": {
    "tags": []
   },
   "outputs": [],
   "source": [
    "# read zonal mean ensemble data:\n",
    "with open(pkfile, 'rb') as file:\n",
    "    data = pickle.load(file)\n",
    "\n",
    "Tens   = data['Tens']\n",
    "HUMens = data['HUMens']\n",
    "CLWens = data['CLWens']\n",
    "Uens   = data['Uens']\n",
    "Vens   = data['Vens']\n",
    "lat    = data['lat']\n",
    "pfull  = data['pfull']"
   ]
  },
  {
   "cell_type": "code",
   "execution_count": 20,
   "id": "eed0b5fa-c319-43f1-b57f-4fbf14cf2af0",
   "metadata": {
    "tags": []
   },
   "outputs": [],
   "source": [
    "ne, nz, ny = Tens.shape"
   ]
  },
  {
   "cell_type": "code",
   "execution_count": 41,
   "id": "2890d3f3-fb80-467c-8942-1bd171dcac4c",
   "metadata": {
    "tags": []
   },
   "outputs": [],
   "source": [
    "# select a region \n",
    "lat_range   = [-30,   30]\n",
    "pfull_range = [700, 1000]\n",
    "\n",
    "lat_idx = np.where( (lat>=lat_range[0])     & (lat<=lat_range[1])     )[0]\n",
    "lev_idx = np.where( (pfull>=pfull_range[0]) & (pfull<=pfull_range[1]) )[0]"
   ]
  },
  {
   "cell_type": "code",
   "execution_count": 45,
   "id": "1a2d813c-e46d-4bf2-9202-af13fd090a4f",
   "metadata": {
    "tags": []
   },
   "outputs": [],
   "source": [
    "# define the variables within the selected region:\n",
    "T_sel   = np.zeros(ne)\n",
    "HUM_sel = np.zeros(ne)\n",
    "CLW_sel = np.zeros(ne)\n",
    "U_sel   = np.zeros(ne)\n",
    "V_sel   = np.zeros(ne)\n",
    "\n",
    "for i in range(ne):\n",
    "    T_sel[i]   = np.mean(np.mean(Tens[i,lev_idx[0]:lev_idx[-1], lat_idx[0]:lat_idx[-1]]))\n",
    "    HUM_sel[i] = np.mean(np.mean(HUMens[i,lev_idx[0]:lev_idx[-1], lat_idx[0]:lat_idx[-1]]))\n",
    "    CLW_sel[i] = np.mean(np.mean(CLWens[i,lev_idx[0]:lev_idx[-1], lat_idx[0]:lat_idx[-1]]))\n",
    "    U_sel[i]   = np.mean(np.mean(Uens[i,lev_idx[0]:lev_idx[-1], lat_idx[0]:lat_idx[-1]]))\n",
    "    V_sel[i]   = np.mean(np.mean(Vens[i,lev_idx[0]:lev_idx[-1], lat_idx[0]:lat_idx[-1]]))"
   ]
  },
  {
   "cell_type": "code",
   "execution_count": 44,
   "id": "2e773953-ac67-4cbe-ba0e-7a40de0c1fd9",
   "metadata": {
    "tags": []
   },
   "outputs": [
    {
     "data": {
      "text/plain": [
       "array([290.86236414, 290.89240002, 290.86986296, 290.84177446,\n",
       "       290.8608852 , 290.86019556, 290.85122438, 290.84577975,\n",
       "       290.88443028, 290.84805053, 290.85857577, 290.84088496,\n",
       "       290.86837038, 290.86307934, 290.85118786, 290.87390714,\n",
       "       290.8520673 , 290.89366819, 290.87223939, 290.83848917,\n",
       "       290.86738921, 290.84688316, 290.8233632 , 290.8574913 ,\n",
       "       290.82913034, 290.84667055, 290.87927438, 290.83124374,\n",
       "       290.82503207, 290.85486837, 290.83864229, 290.88083465,\n",
       "       290.84331456, 290.85668959, 290.86250129, 290.86774752,\n",
       "       290.88415347, 290.84106646, 290.83645388, 290.86620559,\n",
       "       290.82566785, 290.77688673, 290.81335421, 290.79123572,\n",
       "       290.80861174, 290.80033745, 290.792289  , 290.79984641,\n",
       "       290.83994316, 290.7725197 , 290.81088112, 290.81557025,\n",
       "       290.82156513, 290.807186  , 290.80985937, 290.80405114,\n",
       "       290.79007341, 290.84912305, 290.80647119, 290.80255981,\n",
       "       290.84364165, 290.80281567, 290.78987657, 290.81433042,\n",
       "       290.83800382, 290.79469638, 290.80128906, 290.78370409,\n",
       "       290.82519584, 290.82845858, 290.78062045, 290.78420607,\n",
       "       290.79644577, 290.79810334, 290.82868037, 290.810411  ,\n",
       "       290.83761753, 290.80861396, 290.80656096, 290.80291629])"
      ]
     },
     "execution_count": 44,
     "metadata": {},
     "output_type": "execute_result"
    }
   ],
   "source": [
    "T_sel"
   ]
  },
  {
   "cell_type": "code",
   "execution_count": 32,
   "id": "df398101-0159-4eeb-9e18-054dd23caca3",
   "metadata": {
    "tags": []
   },
   "outputs": [
    {
     "data": {
      "text/plain": [
       "(80, 91, 192)"
      ]
     },
     "execution_count": 32,
     "metadata": {},
     "output_type": "execute_result"
    }
   ],
   "source": [
    "Tens.shape"
   ]
  },
  {
   "cell_type": "code",
   "execution_count": 38,
   "id": "db6a3cb1-5690-42a8-93f6-09e78f086893",
   "metadata": {
    "tags": []
   },
   "outputs": [
    {
     "data": {
      "text/plain": [
       "array([[262.34262085, 261.69699097, 261.0526123 , 260.52578735],\n",
       "       [263.36282349, 262.6947937 , 262.07272339, 261.59640503],\n",
       "       [264.27575684, 263.60714722, 263.01187134, 262.60549927],\n",
       "       [265.10528564, 264.44702148, 263.87646484, 263.52938843],\n",
       "       [265.86160278, 265.228302  , 264.69390869, 264.40148926],\n",
       "       [266.5463562 , 265.94534302, 265.47064209, 265.22833252],\n",
       "       [267.16616821, 266.60739136, 266.19723511, 265.99484253],\n",
       "       [267.72299194, 267.22070312, 266.88763428, 266.72021484],\n",
       "       [268.22647095, 267.80374146, 267.54492188, 267.40887451],\n",
       "       [268.68887329, 268.35449219, 268.17199707, 268.06204224],\n",
       "       [269.14434814, 268.88391113, 268.77355957, 268.67758179],\n",
       "       [269.56237793, 269.38513184, 269.34335327, 269.26400757],\n",
       "       [269.96365356, 269.86929321, 269.89276123, 269.82022095],\n",
       "       [270.35177612, 270.32662964, 270.40481567, 270.34161377],\n",
       "       [270.73269653, 270.7562561 , 270.87454224, 270.82666016],\n",
       "       [271.10574341, 271.18014526, 271.32235718, 271.27166748],\n",
       "       [271.47311401, 271.59265137, 271.73669434, 271.67251587],\n",
       "       [271.82543945, 271.96725464, 272.09573364, 272.02877808],\n",
       "       [272.15234375, 272.30953979, 272.42028809, 272.34927368],\n",
       "       [272.46743774, 272.62533569, 272.73025513, 272.65994263],\n",
       "       [272.77093506, 272.89373779, 273.01586914, 272.95654297],\n",
       "       [273.03707886, 273.13989258, 273.27151489, 273.22702026]])"
      ]
     },
     "execution_count": 38,
     "metadata": {},
     "output_type": "execute_result"
    }
   ],
   "source": [
    "Tens[1, 68:90, 1:5]"
   ]
  },
  {
   "cell_type": "code",
   "execution_count": null,
   "id": "1776dd34-7f42-43b6-8fc1-426de85fd65e",
   "metadata": {},
   "outputs": [],
   "source": []
  }
 ],
 "metadata": {
  "kernelspec": {
   "display_name": "Python 3 (ipykernel)",
   "language": "python",
   "name": "python3"
  },
  "language_info": {
   "codemirror_mode": {
    "name": "ipython",
    "version": 3
   },
   "file_extension": ".py",
   "mimetype": "text/x-python",
   "name": "python",
   "nbconvert_exporter": "python",
   "pygments_lexer": "ipython3",
   "version": "3.8.18"
  }
 },
 "nbformat": 4,
 "nbformat_minor": 5
}
