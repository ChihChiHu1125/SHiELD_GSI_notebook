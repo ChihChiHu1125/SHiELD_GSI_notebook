{
 "cells": [
  {
   "cell_type": "code",
   "execution_count": 1,
   "id": "5c0b2130-1262-455a-83aa-b9ffe9bbb66e",
   "metadata": {
    "tags": []
   },
   "outputs": [],
   "source": [
    "# Plot the forecast verification against reanalysis data (for ERA5 only):\n",
    "# Plot normalized 'drmse' timeseries at selected levels for selected variables\n",
    "# initial built: 2025/03/20\n",
    "\n",
    "import os\n",
    "import numpy as np\n",
    "import matplotlib.pyplot as plt\n",
    "import netCDF4 as nc\n"
   ]
  },
  {
   "cell_type": "code",
   "execution_count": null,
   "id": "10a69105-4448-44fe-b8c5-8079d2e84a35",
   "metadata": {},
   "outputs": [],
   "source": [
    "datahome  = '/scratch2/GFDL/gfdlscr/Chih-Chi.Hu/forecast_verification_ERA5/data/'\n",
    "#timerange = '2022062000_2022080500_24'\n",
    "timerange = '2022062300_2022080200_24'\n",
    "#timerange = '2022061900_2022063000_24'\n",
    "\n",
    "#dirname   = 'FC_full_clr_cld-FC_full_clr_cld_low_sym_tri'\n",
    "dirname   = 'FC_full_CTRL-FC_full_clr_cld_low_sym_tri'\n",
    "#dirname   = 'FC_full_CTRL-FC_full_clr_cld_sym_tri'\n",
    "#dirname   = 'FC_full_CTRL-FC_full_only_clr'\n",
    "#dirname   = 'FC_full_CTRL-FC_full_clr_cld'\n",
    "#dirname   = 'FC_full_CTRL-FC_full_clr_cld_low'\n",
    "#dirname   = 'FC_full_CTRL-FC_full_CTRL_noinf'\n",
    "#dirname   = 'FC_ctrl-FC_ctrl_noinf'\n",
    "\n",
    "region = '' # '_land', '_ocean', '' (global)\n",
    "\n",
    "#fcsthrs = ['00','24']\n",
    "#fcsthrs   = [24,48,72,96,120]\n",
    "#fcsthrs   = [24,48,72,96,120,144,168,192]\n",
    "fcsthrs   = ['00','24','48','72','96','120','144','168','192']\n",
    "\n",
    "exps      = dirname.split('-')\n",
    "expref    = exps[0]\n",
    "exptest   = exps[1]\n",
    "ncdir = os.path.join(datahome, dirname, timerange)"
   ]
  }
 ],
 "metadata": {
  "kernelspec": {
   "display_name": "Python 3 (ipykernel)",
   "language": "python",
   "name": "python3"
  },
  "language_info": {
   "codemirror_mode": {
    "name": "ipython",
    "version": 3
   },
   "file_extension": ".py",
   "mimetype": "text/x-python",
   "name": "python",
   "nbconvert_exporter": "python",
   "pygments_lexer": "ipython3",
   "version": "3.8.18"
  }
 },
 "nbformat": 4,
 "nbformat_minor": 5
}
