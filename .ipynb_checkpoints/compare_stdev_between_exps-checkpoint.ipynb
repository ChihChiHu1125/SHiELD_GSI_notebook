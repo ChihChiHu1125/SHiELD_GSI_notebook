{
 "cells": [
  {
   "cell_type": "code",
   "execution_count": null,
   "id": "95d0b4a6-f808-4bce-8c8a-d2d6fa9bb23a",
   "metadata": {},
   "outputs": [],
   "source": [
    "# simply compare the stdev distribution between different experiments\n",
    "# initial built: 05/09/2024"
   ]
  },
  {
   "cell_type": "code",
   "execution_count": null,
   "id": "d096295f-5562-421a-9fc6-489628e05ff2",
   "metadata": {
    "tags": []
   },
   "outputs": [],
   "source": [
    "import numpy as np\n",
    "import matplotlib\n",
    "import matplotlib.pyplot as plt\n",
    "import pandas as pd\n",
    "import pickle\n",
    "from scipy.optimize import curve_fit\n",
    "from scipy.interpolate import interp1d"
   ]
  },
  {
   "cell_type": "code",
   "execution_count": null,
   "id": "f5594bb2-4e00-4788-9ff4-736f034485a5",
   "metadata": {
    "tags": []
   },
   "outputs": [],
   "source": [
    "instrument = 'amsua'\n",
    "channel    = 'ch1'\n",
    "stdev_from = 'OmF'\n",
    "expid      = ['CTRL','CTRL_no_situ','ng_v0','ng_all_infla']"
   ]
  },
  {
   "cell_type": "code",
   "execution_count": null,
   "id": "2cd99a05-9a32-401e-af4a-796d67567ada",
   "metadata": {
    "tags": []
   },
   "outputs": [],
   "source": [
    "dfs=[]\n",
    "for exp in expid:\n",
    "    print(f'processing {exp}...')\n",
    "    if exp == 'create_table':\n",
    "        fn = f'/scratch2/GFDL/gfdlscr/Chih-Chi.Hu/compile_radstats/csv_files/default_used_to_build_pdfs/omf_stats_{instrument}_{channel}.csv'\n",
    "    else:\n",
    "        fn = f'/scratch2/GFDL/gfdlscr/Chih-Chi.Hu/compile_radstats/csv_files/{exp}/omf_stats_{instrument}_{channel}.csv'\n",
    "    df=pd.read_csv(fn)\n",
    "    # screen the data:\n",
    "    dfs.append(df[abs(df['omf_ges']) < 1e3])"
   ]
  },
  {
   "cell_type": "code",
   "execution_count": 9,
   "id": "68ac4d03-903d-4532-b537-f2835df1efe4",
   "metadata": {
    "tags": []
   },
   "outputs": [],
   "source": [
    "with open(f'/home/Chih-Chi.Hu/python_codes/tables/pkl_files/saved_nginfo_{instrument}_{channel}_create_table.pkl', 'rb') as f:\n",
    "    nginfo = pickle.load(f)"
   ]
  },
  {
   "cell_type": "code",
   "execution_count": null,
   "id": "f62f4584-5a37-4dc7-b910-77ead272aeaa",
   "metadata": {},
   "outputs": [],
   "source": [
    "# compare the symmetric Gaussian error/non-Gaussian error/ SDOEI\n",
    "import random\n",
    "# create the dataframe for a selected range of symmetric cloud amount:\n",
    "tmpdf  = adf['sea']['Global']\n",
    "for i in range(len(nginfo)):\n",
    "    select_cloud_df = tmpdf.loc[ ( 0.5*(tmpdf['clw_obs'] + tmpdf['clw_bg_ges']) >= nginfo[i]['cloud_edge'][0] )& \\\n",
    "                                 ( 0.5*(tmpdf['clw_obs'] + tmpdf['clw_bg_ges']) <  nginfo[i]['cloud_edge'][1] )] \n",
    "\n",
    "    symerr = select_cloud_df['symerr_ges']\n",
    "    inferr = 1/select_cloud_df['errinv_ges']\n",
    "    n_data = len(select_cloud_df)\n",
    "    plot_data = random.sample(range(1, n_data), min(30000,n_data-1))\n",
    "    \n",
    "    fig, ax = plt.subplots(figsize=(6,5))\n",
    "    ax.scatter(select_cloud_df['omf_ges'].iloc[plot_data],   select_cloud_df['symerr_ges'].iloc[plot_data], s=1, color=(0.6,0.6,0.6), label='symmetric model')\n",
    "    ax.scatter(select_cloud_df['omf_ges'].iloc[plot_data], 1/select_cloud_df['errinv_ges'].iloc[plot_data], s=1, color=(0.2,0.2,0.2), label='sym + SDOEI')\n",
    "    ax.plot(nginfo[i]['coarse_axis'], nginfo[i]['coarse_record_sig'], linewidth=1.5, color=(0, 0, 0.8), label='non-Gaussian model')\n",
    "    ax.axvline(nginfo[i]['axis_omf'][nginfo[i]['range_min_idx']], linestyle='--', color=(0, 0.2, 0.9))\n",
    "    ax.axvline(nginfo[i]['axis_omf'][nginfo[i]['range_max_idx']], linestyle='--', color=(0, 0.2, 0.9))\n",
    "    #plt_range = max(np.abs(select_cloud_df.loc[(select_cloud_df['qcmark']==0)]['omf_ges']))\n",
    "    #ax.set_xlim(-1.2*plt_range, 1.2*plt_range)\n",
    "    ax.set_ylim(0, 5*max(select_cloud_df['symerr_ges'].iloc[plot_data]))\n",
    "    ax.set_xlabel('OmB (K)',fontsize=14)\n",
    "    ax.set_ylabel('stdev (K)',fontsize=14)\n",
    "    ax.legend(loc='best')\n",
    "    sym_cloud_low  = nginfo[i]['cloud_edge'][0] \n",
    "    sym_cloud_high = nginfo[i]['cloud_edge'][1]\n",
    "    ax.set_title(f'stdev {instrument} {channel} [Global] sym cloud = [{sym_cloud_low},{sym_cloud_high}]',fontsize=13)\n",
    "    plt.grid(True)"
   ]
  },
  {
   "cell_type": "code",
   "execution_count": null,
   "id": "87e09731-3f7f-4d30-bd5f-c3e029c48bce",
   "metadata": {},
   "outputs": [],
   "source": []
  }
 ],
 "metadata": {
  "kernelspec": {
   "display_name": "Python 3 (ipykernel)",
   "language": "python",
   "name": "python3"
  },
  "language_info": {
   "codemirror_mode": {
    "name": "ipython",
    "version": 3
   },
   "file_extension": ".py",
   "mimetype": "text/x-python",
   "name": "python",
   "nbconvert_exporter": "python",
   "pygments_lexer": "ipython3",
   "version": "3.8.18"
  }
 },
 "nbformat": 4,
 "nbformat_minor": 5
}
