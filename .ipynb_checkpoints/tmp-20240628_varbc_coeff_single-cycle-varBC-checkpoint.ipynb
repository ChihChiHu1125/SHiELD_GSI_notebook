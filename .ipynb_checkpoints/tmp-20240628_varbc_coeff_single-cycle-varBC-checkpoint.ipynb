{
 "cells": [
  {
   "cell_type": "code",
   "execution_count": 1,
   "id": "9ce37a5b-e8a4-48b2-927b-50e8966534d8",
   "metadata": {
    "tags": []
   },
   "outputs": [],
   "source": [
    "import numpy as np\n",
    "import matplotlib\n",
    "import matplotlib.pyplot as plt\n",
    "import pandas as pd\n",
    "\n",
    "matplotlib.rcParams['figure.figsize'] = [12, 7]"
   ]
  },
  {
   "cell_type": "code",
   "execution_count": 2,
   "id": "41bacd5a-0ad5-46f2-b573-59ef35f16ad4",
   "metadata": {
    "tags": []
   },
   "outputs": [],
   "source": [
    "def inquire_nongauss_table(table_name, input_cld, input_innov):\n",
    "\n",
    "    # first read table in:\n",
    "    read_cloud_bin_next = False\n",
    "    read_bias_next      = False\n",
    "    read_stdev_next     = False\n",
    "    ct = 0\n",
    "    with open(table_name, 'r') as file:\n",
    "        # Read the file line by line into a list\n",
    "        lines = file.readlines()\n",
    "    \n",
    "        # Process each line\n",
    "        for line in lines:\n",
    "            # basic parameters\n",
    "            if line[0:9] == 'max_range':\n",
    "                max_range = float(line[17:])\n",
    "            elif line[0:2] == 'dx':\n",
    "                dx        = float(line[17:])\n",
    "            elif line[0:9] == 'bdy_slope':\n",
    "                bdy_slope = float(line[17:])\n",
    "            elif line[0:13] == 'num_cloud_cat':\n",
    "                num_cloud_cat = float(line[17:])\n",
    "                stdev = np.zeros((int(num_cloud_cat), 2*int(max_range/dx)+1))\n",
    "        \n",
    "            # cloud bin\n",
    "            if line[0:11] == 'cloud_bin::':\n",
    "                read_cloud_bin_next = True\n",
    "                continue\n",
    "            \n",
    "            if read_cloud_bin_next:\n",
    "                cloud_bin = np.array(line.split(), dtype=np.float64)\n",
    "                read_cloud_bin_next = False\n",
    "        \n",
    "            if line[0:6] == 'bias::':\n",
    "                read_bias_next = True\n",
    "                continue\n",
    "            \n",
    "            if read_bias_next:\n",
    "                bias = np.array(line.split(), dtype=np.float64)\n",
    "                read_bias_next = False\n",
    "            \n",
    "            if line[0:7] == 'stdev::':\n",
    "                read_stdev_next = True\n",
    "                continue\n",
    "            \n",
    "            if read_stdev_next:\n",
    "                stdev[ct,:] = np.array(line.split(), dtype=np.float64)\n",
    "                ct+=1\n",
    "                if ct>=num_cloud_cat:\n",
    "                    read_stdev_next = False\n",
    "                    \n",
    "    \n",
    "    # then interpolate the table to get the standard deviation:\n",
    "    cc = int(min(num_cloud_cat-1, np.where(input_cld - cloud_bin >= 0)[0][-1]))\n",
    "\n",
    "    # move the innovation to 'mode relative innovation':\n",
    "    input_innov = input_innov + bias[cc]\n",
    "    \n",
    "    # interpolate to get the stdev:\n",
    "    if input_innov <= -max_range:\n",
    "        output_stdev = stdev[cc,0] + bdy_slope*(-max_range - input_innov)\n",
    "    elif input_innov >= max_range:\n",
    "        output_stdev = stdev[cc,-1] + bdy_slope*(input_innov - max_range)\n",
    "    else:\n",
    "        output_stdev = np.interp(input_innov, np.arange(-max_range, max_range+dx, dx), stdev[cc,:] )\n",
    "\n",
    "    return output_stdev"
   ]
  },
  {
   "cell_type": "code",
   "execution_count": null,
   "id": "74b66b85-2d69-4555-99e7-63669230dbc8",
   "metadata": {},
   "outputs": [],
   "source": [
    "# compare the standard deviation map for different observation error models:\n",
    "\n"
   ]
  }
 ],
 "metadata": {
  "kernelspec": {
   "display_name": "Python 3 (ipykernel)",
   "language": "python",
   "name": "python3"
  },
  "language_info": {
   "codemirror_mode": {
    "name": "ipython",
    "version": 3
   },
   "file_extension": ".py",
   "mimetype": "text/x-python",
   "name": "python",
   "nbconvert_exporter": "python",
   "pygments_lexer": "ipython3",
   "version": "3.8.18"
  }
 },
 "nbformat": 4,
 "nbformat_minor": 5
}
