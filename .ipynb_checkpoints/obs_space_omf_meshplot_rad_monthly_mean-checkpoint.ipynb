{
 "cells": [
  {
   "cell_type": "code",
   "execution_count": null,
   "id": "a0bf549e-99ca-48b9-881b-77cf2f8db642",
   "metadata": {},
   "outputs": [],
   "source": [
    "# examine the monthly mean spatial distribution of mean omf, and rms\n"
   ]
  }
 ],
 "metadata": {
  "kernelspec": {
   "display_name": "Python 3 (ipykernel)",
   "language": "python",
   "name": "python3"
  },
  "language_info": {
   "codemirror_mode": {
    "name": "ipython",
    "version": 3
   },
   "file_extension": ".py",
   "mimetype": "text/x-python",
   "name": "python",
   "nbconvert_exporter": "python",
   "pygments_lexer": "ipython3",
   "version": "3.8.18"
  }
 },
 "nbformat": 4,
 "nbformat_minor": 5
}
