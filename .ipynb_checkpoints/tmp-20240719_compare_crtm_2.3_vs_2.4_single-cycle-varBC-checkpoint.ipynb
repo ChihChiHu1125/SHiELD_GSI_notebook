{
 "cells": [
  {
   "cell_type": "code",
   "execution_count": null,
   "id": "71748303-3d8c-43b9-abc5-b6bc2963e9a0",
   "metadata": {
    "tags": []
   },
   "outputs": [],
   "source": [
    "# examine the spatial distribution of omf\n",
    "from datetime import datetime, timedelta\n",
    "import netCDF4 as nc\n",
    "import numpy as np\n",
    "import matplotlib.pyplot as plt\n",
    "from matplotlib.colors import LinearSegmentedColormap\n",
    "import cartopy.crs as ccrs\n",
    "import cartopy.feature as cfeature\n",
    "import cartopy\n",
    "print(cartopy.__version__)\n",
    "\n",
    "plt.rcParams['figure.figsize'] = [20, 13]"
   ]
  },
  {
   "cell_type": "code",
   "execution_count": null,
   "id": "76071c51-0e2b-486b-8107-fd32716f6e6e",
   "metadata": {
    "tags": []
   },
   "outputs": [],
   "source": [
    "# Create a custom colormap\n",
    "colors_top    = plt.cm.jet(np.linspace(0, 0.2, 128))  # Use the top half of the jet colormap\n",
    "colors_middle = 0.1*np.ones((150,4))\n",
    "colors_bottom = plt.cm.jet(np.linspace(0.8, 1, 128))  # Use the gray colormap for the bottom half\n",
    "colors = np.vstack((colors_top, colors_middle, colors_bottom))\n",
    "custom_cmap = LinearSegmentedColormap.from_list('custom_jet_white', colors)\n"
   ]
  },
  {
   "cell_type": "code",
   "execution_count": null,
   "id": "99996339-1976-4b78-9b27-c07d5c43bb66",
   "metadata": {
    "tags": []
   },
   "outputs": [],
   "source": [
    "# Create a custom colormap\n",
    "from matplotlib.colors import LinearSegmentedColormap\n",
    "colors = [(0, 'blue'), (0.45, 'white'),(0.55, 'white'), (1, 'red')]\n",
    "tmap = LinearSegmentedColormap.from_list('custom_colormap', colors)"
   ]
  },
  {
   "cell_type": "code",
   "execution_count": null,
   "id": "fd53a88d-7e92-44cd-9061-07fc5c4d0ae4",
   "metadata": {},
   "outputs": [],
   "source": []
  },
  {
   "cell_type": "code",
   "execution_count": null,
   "id": "f9ef94f0-a31d-4a4c-b71e-b5d6c48c1a13",
   "metadata": {
    "tags": []
   },
   "outputs": [],
   "source": [
    "for i in range(160):\n",
    "#for i in range(1):\n",
    "    init_time    = datetime(2022, 6, 20, 0, 0, 0)  # Year, month, day, hour, minute, second\n",
    "    current_time = init_time + i*timedelta(hours=6)\n",
    "    \n",
    "    # Format the new datetime\n",
    "    time = current_time.strftime(\"%Y%m%d%H\")\n",
    "    print(time)\n",
    "    \n",
    "    #satellite = 'n19'\n",
    "    #satellite = 'n18'\n",
    "    #satellite = 'n15'\n",
    "    #satellite = 'metop-b'\n",
    "    satellite = 'metop-c'\n",
    "\n",
    "    rr=nc.Dataset(f\"/scratch2/GFDL/gfdlscr/Chih-Chi.Hu/scrub/radstats/amsua/s2022_C192_v2p5_edmf1ens0/diag_amsua_{satellite}_ges.{time}.nc4\")\n",
    "\n",
    "    ch         = rr.variables['Channel_Index'][:]\n",
    "    lat        = rr.variables['Latitude'][:]\n",
    "    lon        = rr.variables['Longitude'][:]\n",
    "    #inv_obserr = rr.variables['Inverse_Observation_Error'][:]\n",
    "    #obserr     = rr.variables['Sym_Observation_Error'][:]\n",
    "    clw_obs    = rr.variables['clw_obs'][:]\n",
    "    clw_model  = rr.variables['clw_guess_retrieval'][:]\n",
    "    omf        = rr.variables['Obs_Minus_Forecast_adjusted'][:]\n",
    "    #wspd       = rr.variables['Sfc_Wind_Speed'][:]\n",
    "    #fland      = rr.variables['Land_Fraction'][:]\n",
    "    fwater     = rr.variables['Water_Fraction'][:]\n",
    "    #symcloud   = 0.5*(clw_obs + clw_model)\n",
    "    qc         = rr.variables['QC_Flag'][:]\n",
    "\n",
    "    chn         = 1\n",
    "    channel     = 'ch4'\n",
    "    sea_screen  = (fwater>= 0.99)\n",
    "    use         = np.where( (qc == 0)&(ch==chn)&sea_screen )\n",
    "\n",
    "    lat_use        = lat[use]\n",
    "    lon_use        = lon[use]\n",
    "    #obserr_use     = obserr[use]\n",
    "    #inv_obserr_use = inv_obserr[use]\n",
    "    #cloud_use      = symcloud[use]\n",
    "    omf_use        = omf[use]\n",
    "    clw_model_use  = clw_model[use]\n",
    "    clw_obs_use    = clw_obs[use]\n",
    "    clw_diff_use   = clw_obs_use - clw_model_use\n",
    "    #wspd_use       = wspd[use]\n",
    "\n",
    "    plt.figure(figsize=(22,18))\n",
    "    fig, ax = plt.subplots(subplot_kw={'projection': ccrs.PlateCarree()})\n",
    "\n",
    "    ax.coastlines()\n",
    "    #plt.scatter(lon_use, lat_use, c=clw_obs_use, s=200, marker='s', cmap='gray', alpha=1.0, vmin=0, vmax=0.45)\n",
    "    plt.scatter(lon_use, lat_use, c=omf_use, s=4, cmap=tmap, alpha=0.7, vmin=-12, vmax=12)\n",
    "    \n",
    "    plt.pcolor\n",
    "    plt.colorbar(shrink=0.5)  # Add colorbar to show the scale\n",
    "    plt.title(f\"{satellite}   {time}   AMSUA-{channel}\")\n",
    "    \n",
    "    plt.show()\n",
    "    \n",
    "    "
   ]
  },
  {
   "cell_type": "code",
   "execution_count": 12,
   "id": "285c0200-dcf5-4a4c-99eb-6b1345f19f49",
   "metadata": {
    "tags": []
   },
   "outputs": [
    {
     "name": "stdout",
     "output_type": "stream",
     "text": [
      "dict_keys(['chaninfoidx', 'frequency', 'polarization', 'wavenumber', 'error_variance', 'mean_lapse_rate', 'use_flag', 'sensor_chan', 'satinfo_chan', 'Channel_Index', 'Observation_Class', 'Latitude', 'Longitude', 'Elevation', 'Obs_Time', 'Scan_Position', 'Sat_Zenith_Angle', 'Sat_Azimuth_Angle', 'Sol_Zenith_Angle', 'Sol_Azimuth_Angle', 'Sun_Glint_Angle', 'Scan_Angle', 'Water_Fraction', 'Land_Fraction', 'Ice_Fraction', 'Snow_Fraction', 'Water_Temperature', 'Land_Temperature', 'Ice_Temperature', 'Snow_Temperature', 'Soil_Temperature', 'Soil_Moisture', 'Land_Type_Index', 'tsavg5', 'sstcu', 'sstph', 'sstnv', 'dta', 'dqa', 'dtp_avh', 'Vegetation_Fraction', 'Snow_Depth', 'tpwc', 'clw_guess_retrieval', 'Sfc_Wind_Speed', 'Cloud_Frac', 'CTP', 'CLW', 'TPWC', 'clw_obs', 'clw_guess', 'Foundation_Temperature', 'SST_Warm_layer_dt', 'SST_Cool_layer_tdrop', 'SST_dTz_dTfound', 'Observation', 'Obs_Minus_Forecast_unadjusted', 'Obs_Minus_Forecast_adjusted', 'Inverse_Observation_Error', 'Sym_Observation_Error', 'Total_Cloud_Cover', 'QC_Flag', 'Emissivity', 'Weighted_Lapse_Rate', 'dTb_dTs', 'BC_Constant', 'BC_Scan_Angle', 'BC_Cloud_Liquid_Water', 'BC_Lapse_Rate_Squared', 'BC_Lapse_Rate', 'BC_Cosine_Latitude_times_Node', 'BC_Sine_Latitude', 'BC_Emissivity', 'BC_Fixed_Scan_Position', 'BC_angord'])\n"
     ]
    }
   ],
   "source": [
    "variable_names = rr.variables.keys()\n",
    "print(variable_names)"
   ]
  },
  {
   "cell_type": "code",
   "execution_count": null,
   "id": "8dcb9c12-075b-4df6-b45c-e16e3b0fdfc1",
   "metadata": {
    "tags": []
   },
   "outputs": [],
   "source": [
    "\n",
    "#for i in range(160):\n",
    "for i in range(1):\n",
    "    init_time    = datetime(2022, 6, 20, 0, 0, 0)  # Year, month, day, hour, minute, second\n",
    "    current_time = init_time + i*timedelta(hours=6)\n",
    "    \n",
    "    # Format the new datetime\n",
    "    time = current_time.strftime(\"%Y%m%d%H\")\n",
    "    print(time)\n",
    "    \n",
    "    #satellite = 'n19'\n",
    "    #satellite = 'n18'\n",
    "    #satellite = 'n15'\n",
    "    #satellite = 'metop-b'\n",
    "    satellite = 'metop-c'\n",
    "\n",
    "    rr=nc.Dataset(f\"/scratch2/GFDL/gfdlscr/Chih-Chi.Hu/scrub/radstats/amsua/s2022_C192_v2p5_edmf1ens0/diag_amsua_{satellite}_ges.{time}.nc4\")\n",
    "\n",
    "    ch         = rr.variables['Channel_Index'][:]\n",
    "    lat        = rr.variables['Latitude'][:]\n",
    "    lon        = rr.variables['Longitude'][:]\n",
    "    #inv_obserr = rr.variables['Inverse_Observation_Error'][:]\n",
    "    #obserr     = rr.variables['Sym_Observation_Error'][:]\n",
    "    clw_obs    = rr.variables['clw_obs'][:]\n",
    "    clw_model  = rr.variables['clw_guess_retrieval'][:]\n",
    "    omf        = rr.variables['Obs_Minus_Forecast_adjusted'][:]\n",
    "    #wspd       = rr.variables['Sfc_Wind_Speed'][:]\n",
    "    #fland      = rr.variables['Land_Fraction'][:]\n",
    "    fwater     = rr.variables['Water_Fraction'][:]\n",
    "    #symcloud   = 0.5*(clw_obs + clw_model)\n",
    "    qc         = rr.variables['QC_Flag'][:]\n",
    "\n",
    "    chn         = 1\n",
    "    channel     = 'ch1'\n",
    "    sea_screen  = (fwater>= 0.99)\n",
    "    use         = np.where( (qc == 0)&(ch==chn)&sea_screen )\n",
    "\n",
    "    lat_use        = lat[use]\n",
    "    lon_use        = lon[use]\n",
    "    #obserr_use     = obserr[use]\n",
    "    #inv_obserr_use = inv_obserr[use]\n",
    "    #cloud_use      = symcloud[use]\n",
    "    omf_use        = omf[use]\n",
    "    clw_model_use  = clw_model[use]\n",
    "    clw_obs_use    = clw_obs[use]\n",
    "    clw_diff_use   = clw_obs_use - clw_model_use\n",
    "    #wspd_use       = wspd[use]\n",
    "\n",
    "    plt.figure(figsize=(22,18))\n",
    "    fig, ax = plt.subplots(subplot_kw={'projection': ccrs.PlateCarree()})\n",
    "\n",
    "    ax.coastlines()\n",
    "    plt.scatter(lon_use, lat_use, c=clw_obs_use, s=200, marker='s', cmap='gray', alpha=1.0, vmin=0, vmax=0.45)\n",
    "    plt.scatter(lon_use, lat_use, c=omf_use, s=4, cmap=custom_cmap, alpha=0.7, vmin=-12, vmax=12)\n",
    "    \n",
    "    plt.pcolor\n",
    "    plt.colorbar(shrink=0.5)  # Add colorbar to show the scale\n",
    "    plt.title(f\"{satellite}   {time}   AMSUA-{channel}\")\n",
    "    \n",
    "    plt.show()\n",
    "    \n",
    "    "
   ]
  },
  {
   "cell_type": "code",
   "execution_count": null,
   "id": "0996c668-e91f-403b-97a2-3f7ec59367b8",
   "metadata": {},
   "outputs": [],
   "source": []
  },
  {
   "cell_type": "code",
   "execution_count": null,
   "id": "5b42c15a-3368-426f-88d7-d7ede307caaf",
   "metadata": {},
   "outputs": [],
   "source": []
  },
  {
   "cell_type": "code",
   "execution_count": null,
   "id": "01617d4e-1e01-4f83-94c4-bae245464a38",
   "metadata": {
    "tags": []
   },
   "outputs": [],
   "source": [
    "from datetime import datetime, timedelta\n",
    "\n",
    "# Specify the date and time\n",
    "specified_datetime = datetime(2022, 6, 20, 0, 0, 0)  # Year, month, day, hour, minute, second\n",
    "\n",
    "# Add 6 hours to the specified datetime\n",
    "new_datetime = specified_datetime + 2*timedelta(hours=6)\n",
    "\n",
    "# Format the new datetime\n",
    "formatted_new_datetime = new_datetime.strftime(\"%Y%m%d%H\")\n",
    "\n",
    "print(\"Original specified datetime:\", specified_datetime)\n",
    "print(\"New datetime after adding 6 hours:\", formatted_new_datetime)"
   ]
  },
  {
   "cell_type": "code",
   "execution_count": null,
   "id": "a2dcb04b-d238-42cb-83c6-7c64f6dbab28",
   "metadata": {},
   "outputs": [],
   "source": []
  }
 ],
 "metadata": {
  "kernelspec": {
   "display_name": "Python 3 (ipykernel)",
   "language": "python",
   "name": "python3"
  },
  "language_info": {
   "codemirror_mode": {
    "name": "ipython",
    "version": 3
   },
   "file_extension": ".py",
   "mimetype": "text/x-python",
   "name": "python",
   "nbconvert_exporter": "python",
   "pygments_lexer": "ipython3",
   "version": "3.8.18"
  }
 },
 "nbformat": 4,
 "nbformat_minor": 5
}
