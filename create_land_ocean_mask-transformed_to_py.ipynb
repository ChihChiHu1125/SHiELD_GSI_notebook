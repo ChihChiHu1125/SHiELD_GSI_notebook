{
 "cells": [
  {
   "cell_type": "code",
   "execution_count": null,
   "id": "1c43ed9e-deab-4f7a-9011-95a90a8bc3b5",
   "metadata": {
    "tags": []
   },
   "outputs": [],
   "source": [
    "# create land/ocean mask\n",
    "# read a mask.nc file (the grid is the \"union\" of SHiELD forecast and the ERA5 reanalysis) \n",
    "# and create a land/ocean mask for this \"union grid\"\n",
    "\n",
    "# This has been transformed to py at\n",
    "# /scratch2/GFDL/gfdlscr/Chih-Chi.Hu/forecast_verification_ERA5/land_ocean_mask/create_ocean_land_mask.py\n",
    "\n",
    "# initial built: 2025/01/23\n",
    "\n",
    "from global_land_mask import globe\n",
    "import matplotlib.pyplot as plt\n",
    "import numpy as np\n",
    "import xarray as xr\n",
    "import netCDF4 as nc\n",
    "import os, shutil, sys\n"
   ]
  },
  {
   "cell_type": "code",
   "execution_count": 2,
   "id": "72eee0f1-242e-4df3-bf72-1ab0ffd82b64",
   "metadata": {
    "tags": []
   },
   "outputs": [],
   "source": [
    "workdir = '/scratch2/GFDL/gfdlscr/Chih-Chi.Hu/forecast_verification_ERA5/land_ocean_mask'\n",
    "\n",
    "# a sample forecast file:\n",
    "input_nc = '/scratch2/GFDL/gfdlscr/Chih-Chi.Hu/forecast_verification_ERA5/land_ocean_mask/mask.nc'\n",
    "\n",
    "# output names:\n",
    "fn_ocean = f'{workdir}/mask_ocean.nc'\n",
    "fn_land  = f'{workdir}/mask_land.nc'"
   ]
  },
  {
   "cell_type": "code",
   "execution_count": 3,
   "id": "0c2d1e99-83f0-4f12-bc35-b09890600113",
   "metadata": {
    "tags": []
   },
   "outputs": [],
   "source": [
    "fcst = xr.load_dataset(input_nc)"
   ]
  },
  {
   "cell_type": "code",
   "execution_count": 4,
   "id": "d946c488-afa4-4268-8f2c-4014a5cc2ec5",
   "metadata": {
    "tags": []
   },
   "outputs": [],
   "source": [
    "lev = fcst.level.values\n",
    "lat = fcst.latitude.values\n",
    "lon = fcst.longitude.values"
   ]
  },
  {
   "cell_type": "code",
   "execution_count": 5,
   "id": "d0008b5b-e6c8-431c-b577-f61a046da167",
   "metadata": {
    "tags": []
   },
   "outputs": [],
   "source": [
    "# create land/ocean mask arrays:\n",
    "lats, lons = np.meshgrid(lat,lon)\n",
    "\n",
    "lon_shift = lon.copy()\n",
    "for i, llon in enumerate(lon_shift):\n",
    "    if llon > 180:\n",
    "        lon_shift[i] = lon[i] - 360\n",
    "        \n",
    "lats, lons_shift = np.meshgrid(lat, lon_shift)\n",
    "\n",
    "ocean_mask = globe.is_ocean(lats, lons_shift)\n",
    "land_mask  = globe.is_land(lats, lons_shift)\n",
    "\n",
    "land_mask_levs  = np.tile(land_mask.T,  (len(lev), 1, 1)) \n",
    "ocean_mask_levs = np.tile(ocean_mask.T, (len(lev), 1, 1)) \n",
    "\n",
    "# Step 4: Wrap the mask in an xarray.DataArray\n",
    "land_mask_da = xr.DataArray(\n",
    "    data=land_mask_levs,\n",
    "    coords={\"level\": lev, \"latitude\": lat, \"longitude\": lon},\n",
    "    dims=(\"level\", \"latitude\", \"longitude\"),\n",
    "    name=\"land_mask_da\"\n",
    ")\n",
    "\n",
    "ocean_mask_da = xr.DataArray(\n",
    "    data=ocean_mask_levs,\n",
    "    coords={\"level\": lev, \"latitude\": lat, \"longitude\": lon},\n",
    "    dims=(\"level\", \"latitude\", \"longitude\"),\n",
    "    name=\"ocean_mask_da\"\n",
    ")"
   ]
  },
  {
   "cell_type": "code",
   "execution_count": 6,
   "id": "5a0ddfce-dd9d-4118-b925-f69722faa232",
   "metadata": {
    "tags": []
   },
   "outputs": [],
   "source": [
    "# save the arrays into nc files:\n",
    "ocean_mask_da.to_netcdf(fn_ocean)\n",
    "land_mask_da.to_netcdf(fn_land)"
   ]
  },
  {
   "cell_type": "code",
   "execution_count": null,
   "id": "f2bc2a62-66ce-4010-bccf-db4a4ea064ed",
   "metadata": {},
   "outputs": [],
   "source": []
  },
  {
   "cell_type": "code",
   "execution_count": null,
   "id": "ed735ea2-d9e9-46b3-b16e-1491e0e4c08e",
   "metadata": {},
   "outputs": [],
   "source": []
  },
  {
   "cell_type": "code",
   "execution_count": 28,
   "id": "85498e57-0e00-4be2-ae19-e789b4214b1f",
   "metadata": {
    "tags": []
   },
   "outputs": [],
   "source": [
    "temp = fcst.mask.where(land_mask_da)"
   ]
  },
  {
   "cell_type": "code",
   "execution_count": 32,
   "id": "177ab280-5b33-42d2-bd35-6d0784467ade",
   "metadata": {
    "tags": []
   },
   "outputs": [],
   "source": [
    "temp2 = temp.where(temp)"
   ]
  },
  {
   "cell_type": "code",
   "execution_count": 31,
   "id": "d9715363-f02b-4e49-ba0b-e6416157b5a7",
   "metadata": {
    "tags": []
   },
   "outputs": [
    {
     "ename": "NameError",
     "evalue": "name 'mask' is not defined",
     "output_type": "error",
     "traceback": [
      "\u001b[0;31m---------------------------------------------------------------------------\u001b[0m",
      "\u001b[0;31mNameError\u001b[0m                                 Traceback (most recent call last)",
      "Cell \u001b[0;32mIn[31], line 1\u001b[0m\n\u001b[0;32m----> 1\u001b[0m \u001b[43mmask\u001b[49m\n",
      "\u001b[0;31mNameError\u001b[0m: name 'mask' is not defined"
     ]
    }
   ],
   "source": [
    "mask"
   ]
  },
  {
   "cell_type": "code",
   "execution_count": 33,
   "id": "972b5275-1caa-487d-82da-20c02968859b",
   "metadata": {
    "tags": []
   },
   "outputs": [
    {
     "data": {
      "text/plain": [
       "<matplotlib.colorbar.Colorbar at 0x7fd8900f8f10>"
      ]
     },
     "execution_count": 33,
     "metadata": {},
     "output_type": "execute_result"
    },
    {
     "data": {
      "image/png": "[encoded data removed]",
      "text/plain": [
       "<Figure size 640x480 with 2 Axes>"
      ]
     },
     "metadata": {},
     "output_type": "display_data"
    }
   ],
   "source": [
    "plt.pcolormesh(temp2[23,:,:])\n",
    "plt.colorbar()"
   ]
  },
  {
   "cell_type": "code",
   "execution_count": null,
   "id": "3c0970e4-0de5-4ce0-aec5-53140b922315",
   "metadata": {},
   "outputs": [],
   "source": []
  }
 ],
 "metadata": {
  "kernelspec": {
   "display_name": "Python 3 (ipykernel)",
   "language": "python",
   "name": "python3"
  },
  "language_info": {
   "codemirror_mode": {
    "name": "ipython",
    "version": 3
   },
   "file_extension": ".py",
   "mimetype": "text/x-python",
   "name": "python",
   "nbconvert_exporter": "python",
   "pygments_lexer": "ipython3",
   "version": "3.13.5"
  }
 },
 "nbformat": 4,
 "nbformat_minor": 5
}
