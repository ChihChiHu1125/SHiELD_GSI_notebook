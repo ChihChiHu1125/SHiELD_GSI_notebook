{
 "cells": [
  {
   "cell_type": "code",
   "execution_count": 1,
   "id": "4aabbfee-c214-4b39-938a-2086cb4c5e07",
   "metadata": {
    "tags": []
   },
   "outputs": [],
   "source": [
    "# simply examine a single nc file\n",
    "import netCDF4 as nc\n",
    "import numpy as np\n",
    "import matplotlib.pyplot as plt"
   ]
  },
  {
   "cell_type": "code",
   "execution_count": 2,
   "id": "74103729-f01e-4572-9211-c7650416ea58",
   "metadata": {
    "tags": []
   },
   "outputs": [],
   "source": [
    "\n",
    "# non-Gaussian\n",
    "#rr_ng=nc.Dataset(f\"/home/Chih-Chi.Hu/python_codes/diag_amsua_n15_ges.2022073000.nc4\")\n",
    "#rr_ng=nc.Dataset(f\"/scratch2/GFDL/gfdlscr/Chih-Chi.Hu/scrub/radstats/{sensor}/shield_ensreplay_ng_only_scatter_wind_v0/diag_{sensor}_n15_ges.2022071112.nc4\")\n"
   ]
  },
  {
   "cell_type": "code",
   "execution_count": 13,
   "id": "b6004b17-8ea8-4c26-b8a3-e62f7f3df55f",
   "metadata": {
    "tags": []
   },
   "outputs": [],
   "source": [
    "sensor  = 'atms'\n",
    "exp_ng  = 'shield_ensreplay_ng_only_scatter_wind_v0'\n",
    "\n",
    "if sensor == 'cris-fsr':\n",
    "    rr_ng=nc.Dataset(f\"/scratch2/GFDL/gfdlscr/Chih-Chi.Hu/scrub/radstats/cris/{exp_ng}/diag_{sensor}_n20_ges.2022072000.nc4\")\n",
    "else:\n",
    "    rr_ng=nc.Dataset(f\"/scratch2/GFDL/gfdlscr/Chih-Chi.Hu/scrub/radstats/{sensor}/{exp_ng}/diag_{sensor}_n20_ges.2022072000.nc4\")\n",
    "#rr_ng=nc.Dataset(f\"/scratch2/GFDL/gfdlscr/Chih-Chi.Hu/scrub/shield_ensreplay_ng_all_situ_oberr_infla/gdas.20220703/00/atmos/tmp/diag_atms_n20_ges.2022070300.nc4\")\n",
    "#rr_ng=nc.Dataset(f\"/scratch2/GFDL/gfdlscr/Chih-Chi.Hu/scrub/radstats/amsua/s2022_C192_v2p5_edmf1ens0/diag_amsua_metop-b_ges.2022071500.nc4\")\n"
   ]
  },
  {
   "cell_type": "code",
   "execution_count": 14,
   "id": "4f6c6170-c007-45ca-8f35-9d27d06c3f93",
   "metadata": {},
   "outputs": [
    {
     "name": "stdout",
     "output_type": "stream",
     "text": [
      "dict_keys(['chaninfoidx', 'frequency', 'polarization', 'wavenumber', 'error_variance', 'mean_lapse_rate', 'use_flag', 'sensor_chan', 'satinfo_chan', 'Channel_Index', 'Observation_Class', 'Latitude', 'Longitude', 'Elevation', 'Obs_Time', 'Scan_Position', 'Sat_Zenith_Angle', 'Sat_Azimuth_Angle', 'Sol_Zenith_Angle', 'Sol_Azimuth_Angle', 'Sun_Glint_Angle', 'Scan_Angle', 'Water_Fraction', 'Land_Fraction', 'Ice_Fraction', 'Snow_Fraction', 'Water_Temperature', 'Land_Temperature', 'Ice_Temperature', 'Snow_Temperature', 'Soil_Temperature', 'Soil_Moisture', 'Land_Type_Index', 'tsavg5', 'sstcu', 'sstph', 'sstnv', 'dta', 'dqa', 'dtp_avh', 'Vegetation_Fraction', 'Snow_Depth', 'tpwc', 'clw_guess_retrieval', 'Sfc_Wind_Speed', 'Cloud_Frac', 'CTP', 'CLW', 'TPWC', 'clw_obs', 'clw_guess', 'Foundation_Temperature', 'SST_Warm_layer_dt', 'SST_Cool_layer_tdrop', 'SST_dTz_dTfound', 'Observation', 'Obs_Minus_Forecast_unadjusted', 'Obs_Minus_Forecast_adjusted', 'Inverse_Observation_Error', 'Sym_Observation_Error', 'Total_Cloud_Cover', 'QC_Flag', 'Emissivity', 'Weighted_Lapse_Rate', 'dTb_dTs', 'BC_Constant', 'BC_Scan_Angle', 'BC_Cloud_Liquid_Water', 'BC_Lapse_Rate_Squared', 'BC_Lapse_Rate', 'BC_Cosine_Latitude_times_Node', 'BC_Sine_Latitude', 'BC_Emissivity', 'BC_Fixed_Scan_Position', 'BC_angord'])\n"
     ]
    }
   ],
   "source": [
    "print(rr_ng.variables.keys())   # get all variables names\n"
   ]
  },
  {
   "cell_type": "code",
   "execution_count": 15,
   "id": "43fc1113-5a17-41c9-abf8-773b97cdc19b",
   "metadata": {
    "tags": []
   },
   "outputs": [],
   "source": [
    "sensor_chan = rr_ng.variables['sensor_chan'][:]\n",
    "use_flag    = rr_ng.variables['use_flag'][:]\n",
    "chaninfoidx = rr_ng.variables['chaninfoidx'][:]\n",
    "wavenumber  = rr_ng.variables['wavenumber'][:]"
   ]
  },
  {
   "cell_type": "code",
   "execution_count": 16,
   "id": "88042e89-9069-42d4-88e9-e922d5e556e1",
   "metadata": {
    "tags": []
   },
   "outputs": [
    {
     "name": "stdout",
     "output_type": "stream",
     "text": [
      "sensor_chan = [ 1  2  3  4  5  6  7  8  9 10 11 12 13 14 15 16 17 18 19 20 21 22]\n",
      "use_flag = [ 1  1  1  1  1  1  1  1  1  1  1  1  1  1 -1  1  1  1  1  1  1  1]\n",
      "chaninfoidx = [ 1  2  3  4  5  6  7  8  9 10 11 12 13 14 15 16 17 18 19 20 21 22]\n",
      "wavenumber = [0.79388255 1.04739126 1.6778274  1.72652776 1.76121842 1.78777012\n",
      " 1.81458868 1.83260114 1.85128073 1.91100018 1.91100018 1.91100018\n",
      " 1.91100018 1.91100018 1.91100018 2.94203532 5.52048578 6.11456343\n",
      " 6.11456343 6.11456343 6.11456343 6.11456343]\n"
     ]
    }
   ],
   "source": [
    "print('sensor_chan =', sensor_chan)\n",
    "print('use_flag =', use_flag)\n",
    "print('chaninfoidx =', chaninfoidx)\n",
    "print('wavenumber =', wavenumber)\n"
   ]
  },
  {
   "cell_type": "code",
   "execution_count": 20,
   "id": "78677f0c-0e46-4a22-8c54-d21f9e28f725",
   "metadata": {
    "tags": []
   },
   "outputs": [],
   "source": [
    "ch_ng         = rr_ng.variables['Channel_Index'][:]\n",
    "inv_obserr_ng = rr_ng.variables['Inverse_Observation_Error'][:]\n",
    "obserr_ng     = rr_ng.variables['Sym_Observation_Error'][:]\n",
    "clw_obs_ng    = rr_ng.variables['clw_obs'][:]\n",
    "clw_model_ng  = rr_ng.variables['clw_guess_retrieval'][:]\n",
    "omf_ng        = rr_ng.variables['Obs_Minus_Forecast_adjusted'][:]\n",
    "wspd_ng       = rr_ng.variables['Sfc_Wind_Speed'][:]\n",
    "fland_ng      = rr_ng.variables['Land_Fraction'][:]\n",
    "fwater_ng     = rr_ng.variables['Water_Fraction'][:]\n",
    "symcloud_ng   = 0.5*(clw_obs_ng + clw_model_ng)\n",
    "qc_ng         = rr_ng.variables['QC_Flag'][:]"
   ]
  },
  {
   "cell_type": "code",
   "execution_count": 21,
   "id": "90a4928f-3dae-437f-a064-13ceaedbf297",
   "metadata": {
    "tags": []
   },
   "outputs": [],
   "source": [
    "chn     = 22\n",
    "channel = 'ch22'"
   ]
  },
  {
   "cell_type": "code",
   "execution_count": 22,
   "id": "3600469d-01ff-48fe-997c-c9d688c48d20",
   "metadata": {
    "tags": []
   },
   "outputs": [],
   "source": [
    "sea_screen_ng  = (fwater_ng>= 0.99)\n",
    "land_screen_ng = (fland_ng >= 0.01)\n",
    "use_ng = np.where((qc_ng == 0)&(ch_ng==chn)&sea_screen_ng)\n",
    "#use_ng = np.where((qc_ng == 0))\n",
    "\n",
    "\n",
    "obserr_use_ng     = obserr_ng[use_ng]\n",
    "inv_obserr_use_ng = inv_obserr_ng[use_ng]\n",
    "cloud_use_ng      = symcloud_ng[use_ng]\n",
    "omf_use_ng        = omf_ng[use_ng]\n",
    "wspd_use_ng       = wspd_ng[use_ng]"
   ]
  },
  {
   "cell_type": "code",
   "execution_count": 23,
   "id": "403b8a19-e33c-43b3-b495-97959cfa3950",
   "metadata": {
    "tags": []
   },
   "outputs": [],
   "source": [
    "def inquire_nongauss_table(table_name, input_cld, input_innov):\n",
    "\n",
    "    # first read table in:\n",
    "    read_cloud_bin_next = False\n",
    "    read_bias_next      = False\n",
    "    read_stdev_next     = False\n",
    "    ct = 0\n",
    "    with open(table_name, 'r') as file:\n",
    "        # Read the file line by line into a list\n",
    "        lines = file.readlines()\n",
    "    \n",
    "        # Process each line\n",
    "        for line in lines:\n",
    "            # basic parameters\n",
    "            if line[0:9] == 'max_range':\n",
    "                max_range = float(line[17:])\n",
    "            elif line[0:2] == 'dx':\n",
    "                dx        = float(line[17:])\n",
    "            elif line[0:9] == 'bdy_slope':\n",
    "                bdy_slope = float(line[17:])\n",
    "            elif line[0:13] == 'num_cloud_cat':\n",
    "                num_cloud_cat = float(line[17:])\n",
    "                stdev = np.zeros((int(num_cloud_cat), 2*int(max_range/dx)+1))\n",
    "        \n",
    "            # cloud bin\n",
    "            if line[0:11] == 'cloud_bin::':\n",
    "                read_cloud_bin_next = True\n",
    "                continue\n",
    "            \n",
    "            if read_cloud_bin_next:\n",
    "                cloud_bin = np.array(line.split(), dtype=np.float64)\n",
    "                read_cloud_bin_next = False\n",
    "        \n",
    "            if line[0:6] == 'bias::':\n",
    "                read_bias_next = True\n",
    "                continue\n",
    "            \n",
    "            if read_bias_next:\n",
    "                bias = np.array(line.split(), dtype=np.float64)\n",
    "                read_bias_next = False\n",
    "            \n",
    "            if line[0:7] == 'stdev::':\n",
    "                read_stdev_next = True\n",
    "                continue\n",
    "            \n",
    "            if read_stdev_next:\n",
    "                stdev[ct,:] = np.array(line.split(), dtype=np.float64)\n",
    "                ct+=1\n",
    "                if ct>=num_cloud_cat:\n",
    "                    read_stdev_next = False\n",
    "                    \n",
    "    \n",
    "    # then interpolate the table to get the standard deviation:\n",
    "    cc = int(min(num_cloud_cat-1, np.where(input_cld - cloud_bin >= 0)[0][-1]))\n",
    "\n",
    "    # move the innovation to 'mode relative innovation':\n",
    "    input_innov = input_innov + bias[cc]\n",
    "    \n",
    "    # interpolate to get the stdev:\n",
    "    if input_innov <= -max_range:\n",
    "        output_stdev = stdev[cc,0] + bdy_slope*(-max_range - input_innov)\n",
    "    elif input_innov >= max_range:\n",
    "        output_stdev = stdev[cc,-1] + bdy_slope*(input_innov - max_range)\n",
    "    else:\n",
    "        output_stdev = np.interp(input_innov, np.arange(-max_range, max_range+dx, dx), stdev[cc,:] )\n",
    "\n",
    "    return output_stdev"
   ]
  },
  {
   "cell_type": "code",
   "execution_count": 24,
   "id": "a82e8383-9d3d-41ed-9ec5-e763a0665211",
   "metadata": {
    "tags": []
   },
   "outputs": [],
   "source": [
    "table_err = np.zeros(len(cloud_use_ng))\n",
    "for i in range(len(cloud_use_ng)):\n",
    "    table_err[i] = inquire_nongauss_table(f'/home/Chih-Chi.Hu/python_codes/tables/non_Gaussian_{sensor}_{channel}_OmF_sym_cld_qc_00_03.txt', cloud_use_ng[i], omf_use_ng[i])\n",
    "    #table_err[i] = inquire_nongauss_table(f'/home/Chih-Chi.Hu/python_codes/tables/non_Gaussian_{sensor}_{channel}_OmF_no_predictor_qc_00_03.txt', cloud_use_ng[i], omf_use_ng[i])"
   ]
  },
  {
   "cell_type": "code",
   "execution_count": 25,
   "id": "072489ed-3b54-4f7a-b043-850409d466df",
   "metadata": {
    "tags": []
   },
   "outputs": [
    {
     "data": {
      "image/png": "[encoded data removed]",
      "text/plain": [
       "<Figure size 1200x700 with 1 Axes>"
      ]
     },
     "metadata": {},
     "output_type": "display_data"
    }
   ],
   "source": [
    "# sanity check plot\n",
    "# plot the error predicted by error table versus the errors that are actually stored in the netcdf file:\n",
    "\n",
    "plt.scatter(table_err, obserr_use_ng)\n",
    "plt.plot([0,70],[0,70],linestyle='--')\n",
    "#plt.axis([0,20,0,20])\n",
    "#plt.axis([0,5,0,5])\n",
    "plt.axis([0,10,0,10])\n",
    "plt.xlabel('symmetric error from table')\n",
    "plt.ylabel('actual symmetric error')\n",
    "plt.grid(True)\n",
    "plt.title(f'{sensor} {channel} error check plot (should be diagonal line)')\n",
    "plt.show()"
   ]
  },
  {
   "cell_type": "code",
   "execution_count": null,
   "id": "a4eeffec-69d7-42f8-92e1-21ece135d90d",
   "metadata": {},
   "outputs": [],
   "source": []
  }
 ],
 "metadata": {
  "kernelspec": {
   "display_name": "Python 3 (ipykernel)",
   "language": "python",
   "name": "python3"
  },
  "language_info": {
   "codemirror_mode": {
    "name": "ipython",
    "version": 3
   },
   "file_extension": ".py",
   "mimetype": "text/x-python",
   "name": "python",
   "nbconvert_exporter": "python",
   "pygments_lexer": "ipython3",
   "version": "3.8.18"
  }
 },
 "nbformat": 4,
 "nbformat_minor": 5
}
