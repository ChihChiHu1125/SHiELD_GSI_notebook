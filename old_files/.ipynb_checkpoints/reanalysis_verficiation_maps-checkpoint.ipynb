{
 "cells": [
  {
   "cell_type": "code",
   "execution_count": null,
   "id": "337d1eac-3f07-4608-9fcd-485b84d4b9a5",
   "metadata": {
    "tags": []
   },
   "outputs": [],
   "source": [
    "# Plot the verification against reanalysis data:\n",
    "# Plot difference in zonal mean rmse\n",
    "import numpy as np\n",
    "import matplotlib.pyplot as plt\n",
    "import pandas as pd\n",
    "import netCDF4 as nc\n",
    "plt.rcParams['figure.figsize'] = [12, 6]"
   ]
  },
  {
   "cell_type": "code",
   "execution_count": null,
   "id": "2213d852-1e96-4965-b8e4-c729f8c86d53",
   "metadata": {},
   "outputs": [],
   "source": []
  },
  {
   "cell_type": "code",
   "execution_count": null,
   "id": "14197883-f7bf-4778-83ca-4ed53845f12f",
   "metadata": {
    "tags": []
   },
   "outputs": [],
   "source": [
    "datahome  = '/scratch2/GFDL/gfdlscr/Chih-Chi.Hu/GribDiag/ush/plotgribnc/data/gribnc'\n",
    "reanal    = 'ERA5' # 'ERA5' or 'IFS'\n",
    "#reanal    = 'IFS' # 'ERA5' or 'IFS'\n",
    "\n",
    "timerange = '2022062000_2022072800_12'\n",
    "expids    = 'old_ctrl-ng_v0'\n",
    "ncdir     = datahome+'/'+reanal+'/'+timerange+'/'+expids\n",
    "print(ncdir)"
   ]
  },
  {
   "cell_type": "code",
   "execution_count": null,
   "id": "ff888ea5-9f48-4a75-90fa-c989d8e54f6e",
   "metadata": {},
   "outputs": [],
   "source": []
  },
  {
   "cell_type": "code",
   "execution_count": null,
   "id": "79aa680c-67af-4ea8-8e8a-2189c18f4eb6",
   "metadata": {
    "tags": []
   },
   "outputs": [],
   "source": [
    "# Create a custom colormap\n",
    "colors = [(0, 'blue'), (0.45, 'white'),(0.55, 'white'), (1, 'red')]\n",
    "tmap = LinearSegmentedColormap.from_list('custom_colormap', colors)\n"
   ]
  },
  {
   "cell_type": "code",
   "execution_count": null,
   "id": "3f75a0f9-3191-417b-bff3-60e5d7711747",
   "metadata": {
    "tags": []
   },
   "outputs": [],
   "source": [
    "# Plot drmse:\n",
    "f_drmse = nc.Dataset(f\"{ncdir}/dzmean_rmse_ng_v0_f06.nc\")\n",
    "if reanal == 'ERA5':\n",
    "    lat     = f_drmse.variables['latitude'][:]\n",
    "    lev     = f_drmse.variables['level'][:]\n",
    "    clwmr   = f_drmse.variables['clwmr'][:]\n",
    "    q       = f_drmse.variables['q'][:]\n",
    "    t       = f_drmse.variables['t'][:]\n",
    "elif reanal == 'IFS':\n",
    "    lat     = f_drmse.variables['latitude'][:]\n",
    "    lev     = f_drmse.variables['level'][:]\n",
    "    r       = f_drmse.variables['r'][:]\n",
    "    t       = f_drmse.variables['t'][:]\n",
    "    u       = f_drmse.variables['u'][:]    \n",
    "    v       = f_drmse.variables['v'][:]    "
   ]
  },
  {
   "cell_type": "code",
   "execution_count": null,
   "id": "75d2cfcd-f206-49ee-9283-7763380035df",
   "metadata": {
    "tags": []
   },
   "outputs": [],
   "source": [
    "# For ERA5:\n",
    "\n",
    "if reanal == 'ERA5':\n",
    "    # Cloud\n",
    "    dlevs   = 0.01\n",
    "    dmax    = 0.07\n",
    "    plt_levs= np.arange(-dmax,dmax,dlevs)\n",
    "    \n",
    "    lats, levs = np.meshgrid(lat, lev)\n",
    "    cs = plt.contourf(lats, levs, clwmr, cmap=tmap, levels=plt_levs, vmin=-dmax, vmax=dmax)\n",
    "    plt.gca().invert_yaxis()\n",
    "    plt.colorbar(shrink=1.0)  # Add colorbar to show the scale\n",
    "    plt.xlabel('latitude')\n",
    "    plt.ylabel('height (hPa)')\n",
    "    plt.title(f'ERA5 clwmr drmse {expids}')\n",
    "    plt.grid(True)\n",
    "    plt.show()\n",
    "    \n",
    "    # humidity\n",
    "    dlevs   = 0.01\n",
    "    dmax    = 0.07\n",
    "    plt_levs= np.arange(-dmax,dmax,dlevs)\n",
    "    \n",
    "    lats, levs = np.meshgrid(lat, lev)\n",
    "    cs = plt.contourf(lats, levs, q, cmap=tmap, levels=plt_levs, vmin=-dmax, vmax=dmax)\n",
    "    plt.gca().invert_yaxis()\n",
    "    plt.colorbar(shrink=1.0)  # Add colorbar to show the scale\n",
    "    plt.xlabel('latitude')\n",
    "    plt.ylabel('height (hPa)')\n",
    "    plt.title(f'ERA5 q drmse {expids}')\n",
    "    plt.grid(True)\n",
    "    plt.show()\n",
    "    \n",
    "    # temperature\n",
    "    dlevs   = 0.01\n",
    "    dmax    = 0.07\n",
    "    plt_levs= np.arange(-dmax,dmax,dlevs)\n",
    "    \n",
    "    lats, levs = np.meshgrid(lat, lev)\n",
    "    cs = plt.contourf(lats, levs, t, cmap=tmap, levels=plt_levs, vmin=-dmax, vmax=dmax)\n",
    "    plt.gca().invert_yaxis()\n",
    "    plt.colorbar(shrink=1.0)  # Add colorbar to show the scale\n",
    "    plt.xlabel('latitude')\n",
    "    plt.ylabel('height (hPa)')\n",
    "    plt.title(f'ERA5 T drmse {expids}')\n",
    "    plt.grid(True)\n",
    "    plt.show()\n",
    "    "
   ]
  },
  {
   "cell_type": "code",
   "execution_count": null,
   "id": "814c8850-48c8-47a8-8110-f4a313c82339",
   "metadata": {
    "tags": []
   },
   "outputs": [],
   "source": [
    "# for IFS:\n",
    "if reanal == 'IFS':\n",
    "    # humidity (IFS)\n",
    "    dlevs   = 0.01\n",
    "    dmax    = 0.07\n",
    "    plt_levs= np.arange(-dmax,dmax,dlevs)\n",
    "    \n",
    "    lats, levs = np.meshgrid(lat, lev)\n",
    "    cs = plt.contourf(lats, levs, r, cmap=tmap, levels=plt_levs, vmin=-dmax, vmax=dmax)\n",
    "    plt.gca().invert_yaxis()\n",
    "    plt.colorbar(shrink=1.0)  # Add colorbar to show the scale\n",
    "    plt.xlabel('latitude')\n",
    "    plt.ylabel('height (hPa)')    \n",
    "    plt.title(f'IFS r drmse {expids}')\n",
    "    plt.grid(True)\n",
    "    plt.show()\n",
    "    \n",
    "    # temperature (IFS)\n",
    "    dlevs   = 0.01\n",
    "    dmax    = 0.07\n",
    "    plt_levs= np.arange(-dmax,dmax,dlevs)\n",
    "    \n",
    "    lats, levs = np.meshgrid(lat, lev)\n",
    "    cs = plt.contourf(lats, levs, t, cmap=tmap, levels=plt_levs, vmin=-dmax, vmax=dmax)\n",
    "    plt.gca().invert_yaxis()\n",
    "    plt.colorbar(shrink=1.0)  # Add colorbar to show the scale\n",
    "    plt.xlabel('latitude')\n",
    "    plt.ylabel('height (hPa)')\n",
    "    plt.title(f'IFS T drmse {expids}')\n",
    "    plt.grid(True)\n",
    "    plt.show()\n",
    "\n",
    "    # Wind U (IFS)\n",
    "    dlevs   = 0.005\n",
    "    dmax    = 0.05\n",
    "    plt_levs= np.arange(-dmax,dmax,dlevs)\n",
    "    \n",
    "    lats, levs = np.meshgrid(lat, lev)\n",
    "    cs = plt.contourf(lats, levs, u, cmap=tmap, levels=plt_levs, vmin=-dmax, vmax=dmax)\n",
    "    plt.gca().invert_yaxis()\n",
    "    plt.colorbar(shrink=1.0)  # Add colorbar to show the scale\n",
    "    plt.xlabel('latitude')\n",
    "    plt.ylabel('height (hPa)')\n",
    "    plt.title(f'IFS U drmse {expids}')\n",
    "    plt.grid(True)\n",
    "    plt.show()"
   ]
  },
  {
   "cell_type": "code",
   "execution_count": null,
   "id": "943c3a5e-9ae6-41d6-be11-238faea1c91a",
   "metadata": {
    "tags": []
   },
   "outputs": [],
   "source": []
  },
  {
   "cell_type": "code",
   "execution_count": null,
   "id": "4a8abd87-2ddc-41b4-89e6-31f163526836",
   "metadata": {},
   "outputs": [],
   "source": []
  },
  {
   "cell_type": "code",
   "execution_count": null,
   "id": "7401f279-6311-4425-93e6-0eace174af8e",
   "metadata": {
    "tags": []
   },
   "outputs": [],
   "source": [
    "print(f_drmse.variables.keys())   # get all variables names\n"
   ]
  },
  {
   "cell_type": "code",
   "execution_count": null,
   "id": "34c09bee-f058-4185-99d0-448ceb045cf4",
   "metadata": {
    "tags": []
   },
   "outputs": [],
   "source": [
    "print(plt_levs)"
   ]
  },
  {
   "cell_type": "code",
   "execution_count": null,
   "id": "356e40c2-ddb2-474f-b3c3-1f6a4120106e",
   "metadata": {},
   "outputs": [],
   "source": []
  }
 ],
 "metadata": {
  "kernelspec": {
   "display_name": "Python 3 (ipykernel)",
   "language": "python",
   "name": "python3"
  },
  "language_info": {
   "codemirror_mode": {
    "name": "ipython",
    "version": 3
   },
   "file_extension": ".py",
   "mimetype": "text/x-python",
   "name": "python",
   "nbconvert_exporter": "python",
   "pygments_lexer": "ipython3",
   "version": "3.8.18"
  }
 },
 "nbformat": 4,
 "nbformat_minor": 5
}
