{
 "cells": [
  {
   "cell_type": "code",
   "execution_count": 1,
   "id": "4aabbfee-c214-4b39-938a-2086cb4c5e07",
   "metadata": {
    "tags": []
   },
   "outputs": [],
   "source": [
    "# simply examine a single nc file\n",
    "import netCDF4 as nc\n",
    "import numpy as np\n",
    "import matplotlib.pyplot as plt"
   ]
  },
  {
   "cell_type": "code",
   "execution_count": 2,
   "id": "74103729-f01e-4572-9211-c7650416ea58",
   "metadata": {
    "tags": []
   },
   "outputs": [],
   "source": [
    "\n",
    "# non-Gaussian\n",
    "rr_ng=nc.Dataset(f\"/home/Chih-Chi.Hu/python_codes/diag_amsua_n15_ges.2022073000.nc4\")\n",
    "#rr_ng=nc.Dataset(f\"/scratch2/GFDL/gfdlscr/Chih-Chi.Hu/scrub/radstats/{sensor}/shield_ensreplay_ng_only_scatter_wind_v0/diag_{sensor}_n15_ges.2022071112.nc4\")\n"
   ]
  },
  {
   "cell_type": "code",
   "execution_count": 3,
   "id": "78677f0c-0e46-4a22-8c54-d21f9e28f725",
   "metadata": {
    "tags": []
   },
   "outputs": [],
   "source": [
    "ch_ng         = rr_ng.variables['Channel_Index'][:]\n",
    "inv_obserr_ng = rr_ng.variables['Inverse_Observation_Error'][:]\n",
    "obserr_ng     = rr_ng.variables['Sym_Observation_Error'][:]\n",
    "clw_obs_ng    = rr_ng.variables['clw_obs'][:]\n",
    "clw_model_ng  = rr_ng.variables['clw_guess_retrieval'][:]\n",
    "omf_ng        = rr_ng.variables['Obs_Minus_Forecast_adjusted'][:]\n",
    "wspd_ng       = rr_ng.variables['Sfc_Wind_Speed'][:]\n",
    "fland_ng      = rr_ng.variables['Land_Fraction'][:]\n",
    "fwater_ng     = rr_ng.variables['Water_Fraction'][:]\n",
    "symcloud_ng   = 0.5*(clw_obs_ng + clw_model_ng)\n",
    "qc_ng         = rr_ng.variables['QC_Flag'][:]"
   ]
  },
  {
   "cell_type": "code",
   "execution_count": 4,
   "id": "90a4928f-3dae-437f-a064-13ceaedbf297",
   "metadata": {
    "tags": []
   },
   "outputs": [],
   "source": [
    "sensor  = 'amsua'\n",
    "chn     = 15\n",
    "channel = 'ch15'"
   ]
  },
  {
   "cell_type": "code",
   "execution_count": 8,
   "id": "3600469d-01ff-48fe-997c-c9d688c48d20",
   "metadata": {
    "tags": []
   },
   "outputs": [],
   "source": [
    "sea_screen_ng  = (fwater_ng>= 0.99)\n",
    "land_screen_ng = (fland_ng >= 0.01)\n",
    "#use_ng = np.where((qc_ng == 0)&(ch_ng==chn)&sea_screen_ng)\n",
    "use_ng = np.where((qc_ng == 0))\n",
    "\n",
    "\n",
    "obserr_use_ng     = obserr_ng[use_ng]\n",
    "inv_obserr_use_ng = inv_obserr_ng[use_ng]\n",
    "cloud_use_ng      = symcloud_ng[use_ng]\n",
    "omf_use_ng        = omf_ng[use_ng]\n",
    "wspd_use_ng       = wspd_ng[use_ng]"
   ]
  },
  {
   "cell_type": "code",
   "execution_count": 20,
   "id": "1b92a8b7-d2a6-4cc3-8cdf-f3a65bf92712",
   "metadata": {},
   "outputs": [
    {
     "name": "stdout",
     "output_type": "stream",
     "text": [
      "100000000000.0\n",
      "23.044697\n",
      "0.0\n"
     ]
    }
   ],
   "source": [
    "print(max(abs((omf_ng))))\n",
    "print(max(obserr_ng))"
   ]
  },
  {
   "cell_type": "code",
   "execution_count": 52,
   "id": "403b8a19-e33c-43b3-b495-97959cfa3950",
   "metadata": {
    "tags": []
   },
   "outputs": [],
   "source": [
    "def inquire_nongauss_table(table_name, input_cld, input_innov):\n",
    "\n",
    "    # first read table in:\n",
    "    read_cloud_bin_next = False\n",
    "    read_bias_next      = False\n",
    "    read_stdev_next     = False\n",
    "    ct = 0\n",
    "    with open(table_name, 'r') as file:\n",
    "        # Read the file line by line into a list\n",
    "        lines = file.readlines()\n",
    "    \n",
    "        # Process each line\n",
    "        for line in lines:\n",
    "            # basic parameters\n",
    "            if line[0:9] == 'max_range':\n",
    "                max_range = float(line[17:])\n",
    "            elif line[0:2] == 'dx':\n",
    "                dx        = float(line[17:])\n",
    "            elif line[0:9] == 'bdy_slope':\n",
    "                bdy_slope = float(line[17:])\n",
    "            elif line[0:13] == 'num_cloud_cat':\n",
    "                num_cloud_cat = float(line[17:])\n",
    "                stdev = np.zeros((int(num_cloud_cat), 2*int(max_range/dx)+1))\n",
    "        \n",
    "            # cloud bin\n",
    "            if line[0:11] == 'cloud_bin::':\n",
    "                read_cloud_bin_next = True\n",
    "                continue\n",
    "            \n",
    "            if read_cloud_bin_next:\n",
    "                cloud_bin = np.array(line.split(), dtype=np.float64)\n",
    "                read_cloud_bin_next = False\n",
    "        \n",
    "            if line[0:6] == 'bias::':\n",
    "                read_bias_next = True\n",
    "                continue\n",
    "            \n",
    "            if read_bias_next:\n",
    "                bias = np.array(line.split(), dtype=np.float64)\n",
    "                read_bias_next = False\n",
    "            \n",
    "            if line[0:7] == 'stdev::':\n",
    "                read_stdev_next = True\n",
    "                continue\n",
    "            \n",
    "            if read_stdev_next:\n",
    "                stdev[ct,:] = np.array(line.split(), dtype=np.float64)\n",
    "                ct+=1\n",
    "                if ct>=num_cloud_cat:\n",
    "                    read_stdev_next = False\n",
    "                    \n",
    "    \n",
    "    # then interpolate the table to get the standard deviation:\n",
    "    cc = int(min(num_cloud_cat-1, np.where(input_cld - cloud_bin >= 0)[0][-1]))\n",
    "\n",
    "    # move the innovation to 'mode relative innovation':\n",
    "    input_innov = input_innov + bias[cc]\n",
    "    \n",
    "    # interpolate to get the stdev:\n",
    "    if input_innov <= -max_range:\n",
    "        output_stdev = stdev[cc,0] + bdy_slope*(-max_range - input_innov)\n",
    "    elif input_innov >= max_range:\n",
    "        output_stdev = stdev[cc,-1] + bdy_slope*(input_innov - max_range)\n",
    "    else:\n",
    "        output_stdev = np.interp(input_innov, np.arange(-max_range, max_range+dx, dx), stdev[cc,:] )\n",
    "\n",
    "    return output_stdev"
   ]
  },
  {
   "cell_type": "code",
   "execution_count": 53,
   "id": "a82e8383-9d3d-41ed-9ec5-e763a0665211",
   "metadata": {
    "tags": []
   },
   "outputs": [],
   "source": [
    "table_err = np.zeros(len(cloud_use_ng))\n",
    "for i in range(len(cloud_use_ng)):\n",
    "    table_err[i] = inquire_nongauss_table(f'/home/Chih-Chi.Hu/python_codes/non_Gaussian_{sensor}_{channel}_OmF_sym_cld_qc_00_03.txt', cloud_use_ng[i], omf_use_ng[i])"
   ]
  },
  {
   "cell_type": "code",
   "execution_count": 54,
   "id": "072489ed-3b54-4f7a-b043-850409d466df",
   "metadata": {
    "tags": []
   },
   "outputs": [
    {
     "data": {
      "image/png": "[encoded data removed]",
      "text/plain": [
       "<Figure size 640x480 with 1 Axes>"
      ]
     },
     "metadata": {},
     "output_type": "display_data"
    }
   ],
   "source": [
    "# sanity check plot\n",
    "# plot the error predicted by error table versus the errors that are actually stored in the netcdf file:\n",
    "\n",
    "plt.scatter(table_err, obserr_use_ng)\n",
    "plt.plot([0,70],[0,70],linestyle='--')\n",
    "#plt.axis([0,20,0,20])\n",
    "#plt.axis([0,5,0,5])\n",
    "plt.axis([0,10,0,10])\n",
    "plt.xlabel('symmetric error from table')\n",
    "plt.ylabel('actual symmetric error')\n",
    "plt.grid(True)\n",
    "plt.title(f'{sensor} {channel} error check plot (should be diagonal line)')\n",
    "plt.show()"
   ]
  },
  {
   "cell_type": "code",
   "execution_count": null,
   "id": "a4eeffec-69d7-42f8-92e1-21ece135d90d",
   "metadata": {},
   "outputs": [],
   "source": []
  }
 ],
 "metadata": {
  "kernelspec": {
   "display_name": "Python 3 (ipykernel)",
   "language": "python",
   "name": "python3"
  },
  "language_info": {
   "codemirror_mode": {
    "name": "ipython",
    "version": 3
   },
   "file_extension": ".py",
   "mimetype": "text/x-python",
   "name": "python",
   "nbconvert_exporter": "python",
   "pygments_lexer": "ipython3",
   "version": "3.8.18"
  }
 },
 "nbformat": 4,
 "nbformat_minor": 5
}
