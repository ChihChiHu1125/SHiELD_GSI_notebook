{
 "cells": [
  {
   "cell_type": "code",
   "execution_count": 1,
   "id": "009356fb-7c1a-4467-98ee-30394bdd550f",
   "metadata": {},
   "outputs": [
    {
     "name": "stdout",
     "output_type": "stream",
     "text": [
      "0.24.1\n"
     ]
    }
   ],
   "source": [
    "# paper revision use\n",
    "# examine the monthly mean spatial distribution of mean omf w/ and w/o bias correction for each channel\n",
    "# initial built: 2025/09/02\n",
    "from datetime import datetime, timedelta\n",
    "import numpy as np\n",
    "import matplotlib.pyplot as plt\n",
    "from matplotlib.colors import LinearSegmentedColormap\n",
    "import cartopy.crs as ccrs\n",
    "import cartopy.feature as cfeature\n",
    "import cartopy\n",
    "print(cartopy.__version__)"
   ]
  },
  {
   "cell_type": "code",
   "execution_count": 16,
   "id": "256edcfd-d004-4be4-99cd-4146277b519e",
   "metadata": {},
   "outputs": [],
   "source": [
    "avg_period = '2022061500_2022081000'\n",
    "expids     = ['full_CTRL','full_CTRL_noinf']\n",
    "\n",
    "instr      = 'atms'\n",
    "channel    = '1'\n",
    "meshsize   = '5.0'\n",
    "\n",
    "expshort = {'full_CTRL': 'CTRL', \n",
    "            'full_CTRL_noinf': 'NOINF'}"
   ]
  },
  {
   "cell_type": "code",
   "execution_count": 17,
   "id": "8e1ff6b3-143b-4a02-972e-fec36fe5490a",
   "metadata": {},
   "outputs": [],
   "source": [
    "data={};\n",
    "pltvar=['omf','omfnbc'] # omf (with BC) or omfnbc (without BC)\n",
    "\n",
    "savefig_dir = f'/gpfs/f6/bil-coastal-gfdl/scratch/Chih-Chi.Hu/python_codes/figures/rad_meshplot/{instr}/ch{channel}/'\n",
    "\n",
    "for exp in expids:\n",
    "    data[exp]={};\n",
    "    path_dir   = f'/gpfs/f6/bil-coastal-gfdl/scratch/Chih-Chi.Hu/gsidiag/ush/radstats/data/meshmean/{exp}/{avg_period}/mesh{meshsize}/'\n",
    "    for varbc in pltvar:\n",
    "        fn = path_dir + f'meshmean_ges_{varbc}_{instr}_{channel}_{exp}.npz'\n",
    "        data[exp][varbc] = np.load(fn)"
   ]
  },
  {
   "cell_type": "code",
   "execution_count": 18,
   "id": "ba916465-5885-456d-ba81-19de36188191",
   "metadata": {},
   "outputs": [],
   "source": [
    "# setup the grid\n",
    "dx = float(meshsize)\n",
    "lon = np.arange(0.0+dx*0.5, 360.0+dx*0.5, dx)\n",
    "lat = np.arange(-90.0+dx*0.5, 90.0+dx*0.5, dx)\n",
    "lons, lats = np.meshgrid(lon,lat)"
   ]
  },
  {
   "cell_type": "code",
   "execution_count": 19,
   "id": "fee5f693-b985-489d-8a9d-68b42428850d",
   "metadata": {},
   "outputs": [],
   "source": [
    "# colorscale parameters:\n",
    "savefig = True\n",
    "\n",
    "if instr == 'atms':\n",
    "    if channel in ('16'):\n",
    "        min_data = 500; val_max  = 4.0;  diff_max = 1.0;    rms_max  = 9;    rmsdiff_max = 0.7\n",
    "    elif channel in ('17'):\n",
    "        min_data = 500; val_max  = 5.0;  diff_max = 0.7;    rms_max  = 13;   rmsdiff_max = 0.5\n",
    "    elif channel in ('18'):\n",
    "        min_data = 500; val_max  = 4.0;  diff_max = 0.30;   rms_max  = 11;   rmsdiff_max = 0.20\n",
    "    elif channel in ('19'):\n",
    "        min_data = 500; val_max  = 3.5;  diff_max = 0.30;   rms_max  = 8.5;  rmsdiff_max = 0.20\n",
    "    elif channel in ('20'):\n",
    "        min_data = 500; val_max  = 2.5;  diff_max = 0.25;   rms_max  = 6.5;  rmsdiff_max = 0.20\n",
    "    elif channel in ('21'):\n",
    "        min_data = 500; val_max  = 1.5;  diff_max = 0.25;   rms_max  = 4.5;  rmsdiff_max = 0.25\n",
    "    elif channel in ('22'):\n",
    "        min_data = 500; val_max  = 1.5;  diff_max = 0.30;   rms_max  = 4.0;  rmsdiff_max = 0.30     \n",
    "        \n",
    "        \n",
    "elif instr == 'amsua':\n",
    "    if channel in ('1'):\n",
    "        min_data = 500; val_max  = 3.5;  diff_max = 1.2;   rms_max  = 7;   rmsdiff_max = 0.7\n",
    "    elif channel in ('2'):\n",
    "        min_data = 500; val_max  = 5;    diff_max = 1.6;   rms_max  = 12;  rmsdiff_max = 1.2\n",
    "    elif channel in ('3'):\n",
    "        min_data = 500; val_max  = 3;    diff_max = 1.0;   rms_max  = 6.0;  rmsdiff_max = 0.6\n",
    "    elif channel in ('4'):\n",
    "        if varbc == 'omf':\n",
    "            min_data = 500; val_max  = 0.5;  diff_max = 0.12;  rms_max  = 1.0;  rmsdiff_max = 0.08\n",
    "        elif varbc == 'omfnbc':\n",
    "            min_data = 500; val_max  = 1;  diff_max = 0.12;  rms_max  = 1.4;  rmsdiff_max = 0.08 \n",
    "    elif channel in ('5'):\n",
    "        if varbc == 'omf':\n",
    "            min_data = 500; val_max  = 0.2;  diff_max = 0.04;  rms_max  = 0.6;  rmsdiff_max = 0.035\n",
    "        elif varbc == 'omfnbc':\n",
    "            min_data = 500; val_max  = 1;  diff_max = 0.04;  rms_max  = 1.0;  rmsdiff_max = 0.035\n",
    "            \n",
    "    elif channel in ('6'):\n",
    "        if varbc == 'omf':\n",
    "            min_data = 500; val_max  = 0.15; diff_max = 0.035; rms_max  = 0.25; rmsdiff_max = 0.015 \n",
    "        elif varbc == 'omfnbc':\n",
    "            min_data = 500; val_max  = 1.60; diff_max = 0.035; rms_max  = 1.60; rmsdiff_max = 0.03 \n",
    "\n",
    "    elif channel in ('7'):\n",
    "        if varbc == 'omf':\n",
    "            min_data = 500; val_max  = 0.15; diff_max = 0.020; rms_max  = 0.30; rmsdiff_max = 0.007\n",
    "        elif varbc == 'omfnbc':\n",
    "            min_data = 500; val_max  = 1.50; diff_max = 0.020; rms_max  = 1.60; rmsdiff_max = 0.015  \n",
    "\n",
    "    elif channel in ('8'):\n",
    "        if varbc == 'omf':\n",
    "            min_data = 500; val_max  = 0.15; diff_max = 0.015; rms_max  = 0.25; rmsdiff_max = 0.007\n",
    "        elif varbc == 'omfnbc':\n",
    "            min_data = 500; val_max  = 1.10; diff_max = 0.015; rms_max  = 1.00; rmsdiff_max = 0.010\n",
    "\n",
    "    elif channel in ('9'):\n",
    "        if varbc == 'omf':\n",
    "            min_data = 500; val_max  = 0.18; diff_max = 0.025; rms_max  = 0.25; rmsdiff_max = 0.015\n",
    "        elif varbc == 'omfnbc':\n",
    "            min_data = 500; val_max  = 1.10; diff_max = 0.025; rms_max  = 1.25; rmsdiff_max = 0.025\n",
    "\n",
    "    elif channel in ('10'):\n",
    "        if varbc == 'omf':\n",
    "            min_data = 500; val_max  = 0.20; diff_max = 0.025; rms_max  = 0.30; rmsdiff_max = 0.010\n",
    "        elif varbc == 'omfnbc':\n",
    "            min_data = 500; val_max  = 1.20; diff_max = 0.025; rms_max  = 1.40; rmsdiff_max = 0.015\n",
    "                \n",
    "    elif channel in ('11'):\n",
    "        if varbc == 'omf':\n",
    "            min_data = 500; val_max  = 0.35; diff_max = 0.020; rms_max  = 0.50; rmsdiff_max = 0.012\n",
    "        elif varbc == 'omfnbc':\n",
    "            min_data = 500; val_max  = 1.25; diff_max = 0.020; rms_max  = 1.25; rmsdiff_max = 0.012\n",
    "\n",
    "    elif channel in ('12'):\n",
    "        if varbc == 'omf':\n",
    "            min_data = 500; val_max  = 0.70; diff_max = 0.025; rms_max  = 0.85; rmsdiff_max = 0.018\n",
    "        elif varbc == 'omfnbc':\n",
    "            min_data = 500; val_max  = 1.40; diff_max = 0.025; rms_max  = 1.60; rmsdiff_max = 0.018\n",
    "\n",
    "    elif channel in ('13'):\n",
    "        if varbc == 'omf':\n",
    "            min_data = 500; val_max  = 1.20; diff_max = 0.030; rms_max  = 1.60; rmsdiff_max = 0.025\n",
    "        elif varbc == 'omfnbc':\n",
    "            min_data = 500; val_max  = 2.50; diff_max = 0.030; rms_max  = 3.00; rmsdiff_max = 0.025\n",
    "\n",
    "    elif channel in ('15'):\n",
    "        min_data = 500; val_max  = 4.50; diff_max = 1.200; rms_max  = 9.00; rmsdiff_max = 0.8"
   ]
  },
  {
   "cell_type": "code",
   "execution_count": 20,
   "id": "9e2279b6-a871-4462-8d3d-0064e6fe647b",
   "metadata": {},
   "outputs": [],
   "source": [
    "# mask out pixels with few data points:\n",
    "mask={};\n",
    "for exp in expids:\n",
    "    mask[exp]={};\n",
    "    for varbc in pltvar:\n",
    "        mask[exp][varbc] = data[exp][varbc]['ctmesh'] > min_data"
   ]
  },
  {
   "cell_type": "code",
   "execution_count": 23,
   "id": "bb053239-fe4f-496a-8876-b2d4e89e173c",
   "metadata": {},
   "outputs": [
    {
     "data": {
      "text/plain": [
       "<matplotlib.collections.PathCollection at 0x7f1e8c92f9d0>"
      ]
     },
     "execution_count": 23,
     "metadata": {},
     "output_type": "execute_result"
    },
    {
     "data": {
      "image/png": "[encoded data removed]",
      "text/plain": [
       "<Figure size 640x480 with 1 Axes>"
      ]
     },
     "metadata": {},
     "output_type": "display_data"
    }
   ],
   "source": [
    "pltvar1 = data['full_CTRL']['omf']['omfmesh'] - data['full_CTRL_noinf']['omf']['omfmesh']\n",
    "pltvar1[~mask['full_CTRL']['omf']] = np.nan\n",
    "\n",
    "pltvar2 = data['full_CTRL']['omfnbc']['omfmesh'] - data['full_CTRL_noinf']['omfnbc']['omfmesh'] \n",
    "pltvar2[~mask['full_CTRL']['omfnbc']] = np.nan\n",
    "\n",
    "plt.scatter(pltvar1, pltvar2)"
   ]
  },
  {
   "cell_type": "code",
   "execution_count": null,
   "id": "1f7c3beb-ab6f-4321-91cc-4d58b420dfd0",
   "metadata": {},
   "outputs": [],
   "source": []
  }
 ],
 "metadata": {
  "kernelspec": {
   "display_name": "Python 3 (ipykernel)",
   "language": "python",
   "name": "python3"
  },
  "language_info": {
   "codemirror_mode": {
    "name": "ipython",
    "version": 3
   },
   "file_extension": ".py",
   "mimetype": "text/x-python",
   "name": "python",
   "nbconvert_exporter": "python",
   "pygments_lexer": "ipython3",
   "version": "3.13.5"
  }
 },
 "nbformat": 4,
 "nbformat_minor": 5
}
