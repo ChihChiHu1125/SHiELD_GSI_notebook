{
 "cells": [
  {
   "cell_type": "code",
   "execution_count": 1,
   "id": "79149144-39cd-4282-b93c-a52699fdc50e",
   "metadata": {
    "tags": []
   },
   "outputs": [],
   "source": [
    "# replot the bias from radstats/cnvstats\n",
    "# initial built: 2025/02/17\n",
    "\n",
    "import os\n",
    "import numpy as np\n",
    "import matplotlib\n",
    "import matplotlib.pyplot as plt\n",
    "import pandas as pd"
   ]
  },
  {
   "cell_type": "code",
   "execution_count": 3,
   "id": "ff80d2ca-6704-4613-b4c7-27399cad5d11",
   "metadata": {
    "tags": []
   },
   "outputs": [],
   "source": [
    "root = '/scratch2/GFDL/gfdlscr/Chih-Chi.Hu/gsidiag/ush/radstats/data/omfstats/'\n",
    "exps = 'full_CTRL-full_CTRL_noinf'\n",
    "instr = 'amsua'\n",
    "csvfn = f'{root}/{exps}/radstats_{instr}.csv'"
   ]
  },
  {
   "cell_type": "code",
   "execution_count": null,
   "id": "4d81fdb4-eb7e-417e-8c74-720cbc2a2c24",
   "metadata": {},
   "outputs": [],
   "source": []
  }
 ],
 "metadata": {
  "kernelspec": {
   "display_name": "Python 3 (ipykernel)",
   "language": "python",
   "name": "python3"
  },
  "language_info": {
   "codemirror_mode": {
    "name": "ipython",
    "version": 3
   },
   "file_extension": ".py",
   "mimetype": "text/x-python",
   "name": "python",
   "nbconvert_exporter": "python",
   "pygments_lexer": "ipython3",
   "version": "3.8.18"
  }
 },
 "nbformat": 4,
 "nbformat_minor": 5
}
