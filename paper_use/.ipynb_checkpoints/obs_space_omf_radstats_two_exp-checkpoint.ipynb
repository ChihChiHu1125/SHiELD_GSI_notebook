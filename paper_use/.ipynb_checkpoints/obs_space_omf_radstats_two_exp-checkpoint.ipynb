{
 "cells": [
  {
   "cell_type": "code",
   "execution_count": 1,
   "id": "4a86839a-8cdb-4373-b1ef-813f08d24b65",
   "metadata": {
    "tags": []
   },
   "outputs": [],
   "source": [
    "# replot the omf stats from radstats/cnvstats\n",
    "# initial built: 2025/03/21\n",
    "\n",
    "import os\n",
    "import numpy as np\n",
    "import matplotlib\n",
    "import matplotlib.pyplot as plt\n",
    "import pandas as pd"
   ]
  },
  {
   "cell_type": "code",
   "execution_count": null,
   "id": "d6312132-2e49-439e-81c7-ca541b8fb64e",
   "metadata": {},
   "outputs": [],
   "source": [
    "root = '/scratch2/GFDL/gfdlscr/Chih-Chi.Hu/gsidiag/ush/radstats/data/omfstats/'\n",
    "exps = ['full_CTRL','full_CTRL_noinf']\n",
    "expstr = '-'.join(exps)\n",
    "instr = ['amsua','atms']\n",
    "\n",
    "df={};\n",
    "for ins in instr:\n",
    "    csvfn = f'{root}/{expstr}/radstats_{ins}.csv'\n",
    "    df[ins] = pd.read_csv(csvfn)"
   ]
  }
 ],
 "metadata": {
  "kernelspec": {
   "display_name": "Python 3 (ipykernel)",
   "language": "python",
   "name": "python3"
  },
  "language_info": {
   "codemirror_mode": {
    "name": "ipython",
    "version": 3
   },
   "file_extension": ".py",
   "mimetype": "text/x-python",
   "name": "python",
   "nbconvert_exporter": "python",
   "pygments_lexer": "ipython3",
   "version": "3.8.18"
  }
 },
 "nbformat": 4,
 "nbformat_minor": 5
}
