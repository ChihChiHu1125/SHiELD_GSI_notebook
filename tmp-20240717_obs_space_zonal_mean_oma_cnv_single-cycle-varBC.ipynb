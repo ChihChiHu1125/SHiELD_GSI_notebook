{
 "cells": [
  {
   "cell_type": "code",
   "execution_count": null,
   "id": "b14aafd9-6d12-4ccf-9652-3ba47b84ef9d",
   "metadata": {
    "tags": []
   },
   "outputs": [],
   "source": [
    "# analysis of zonal mena O-A for single-cycle varBC experiment\n",
    "# initial built: 2024/07/17"
   ]
  },
  {
   "cell_type": "code",
   "execution_count": 1,
   "id": "d350fb9c-0312-41d8-8259-b042ceb50134",
   "metadata": {
    "tags": []
   },
   "outputs": [
    {
     "name": "stdout",
     "output_type": "stream",
     "text": [
      "0.21.1\n"
     ]
    }
   ],
   "source": [
    "import numpy as np\n",
    "import netCDF4 as nc\n",
    "import matplotlib\n",
    "import matplotlib.pyplot as plt\n",
    "import cartopy.crs as ccrs\n",
    "import cartopy.feature as cfeature\n",
    "from cartopy.mpl.gridliner import LONGITUDE_FORMATTER, LATITUDE_FORMATTER\n",
    "import cartopy\n",
    "print(cartopy.__version__)"
   ]
  },
  {
   "cell_type": "code",
   "execution_count": 2,
   "id": "8b3ca4c3-28ed-40df-b809-bb7fc4aa084c",
   "metadata": {
    "tags": []
   },
   "outputs": [],
   "source": [
    "root_dir = '/scratch2/GFDL/gfdlscr/Chih-Chi.Hu/single_cycle_VarBC_experiment/cnvstats/'\n",
    "obs_var = 't'\n",
    "obs_var_long_name = 'Temperature'\n",
    "exps = ['bc0_inf','bc0_noinf','bc1_inf','bc1_noinf']"
   ]
  },
  {
   "cell_type": "code",
   "execution_count": 3,
   "id": "dc8207e1-c72c-47e5-9d75-74d5e8bc4ccc",
   "metadata": {
    "tags": []
   },
   "outputs": [],
   "source": [
    "lat={}; lon={}; pres={};\n",
    "qc={}; ause={}; omfadj={};\n",
    "\n",
    "for exp in exps:\n",
    "    fn = f'{root_dir}/{exp}/diag_conv_{obs_var}_ges.2022070100.nc4'\n",
    "    fnc = nc.Dataset(fn)\n",
    "    qc[exp]     = fnc.variables['Prep_QC_Mark'][:]       \n",
    "    lon[exp]    = fnc.variables['Longitude'][:]\n",
    "    lat[exp]    = fnc.variables['Latitude'][:]\n",
    "    pres[exp]   = fnc.variables['Pressure'][:]   \n",
    "    ause[exp]   = fnc.variables['Analysis_Use_Flag'][:]\n",
    "    omfadj[exp] = fnc.variables['Obs_Minus_Forecast_adjusted'][:]"
   ]
  },
  {
   "cell_type": "code",
   "execution_count": 4,
   "id": "51ae2894-b9f6-482b-86b7-8c222c27c70e",
   "metadata": {
    "tags": []
   },
   "outputs": [],
   "source": [
    "# select data\n",
    "select  = (qc['bc0_inf'] <= 4) \n",
    "\n",
    "lons={}; lats={}; ps={}; omfs={};\n",
    "for exp in exps:\n",
    "    lons[exp] = lon[exp][select]\n",
    "    lats[exp] = lat[exp][select]\n",
    "    ps[exp]   = pres[exp][select]\n",
    "    omfs[exp] = omfadj[exp][select]"
   ]
  },
  {
   "cell_type": "code",
   "execution_count": 5,
   "id": "0c08c42d-4841-43ad-b9b7-da75a60acf69",
   "metadata": {
    "tags": []
   },
   "outputs": [],
   "source": [
    "# vertical and horizontal grid definitions\n",
    "dlat=6\n",
    "latu=np.arange(-90+dlat, 90+dlat, dlat) # u = up   = north\n",
    "latd=np.arange(-90,90,dlat)             # d = down = south\n",
    "\n",
    "if obs_var in ('q','t'):\n",
    "    #ptop=np.array([1000., 900.,800.,600.,400.,300.,250.,200.,150.,100., 50.,30.,20.,10., 5.,0.])\n",
    "    #pbot=np.array([1200.,1000.,900.,800.,600.,400.,300.,250.,200.,150.,100.,50.,30.,20.,10.,5.])\n",
    "    ptop=np.array([1000., 900.,800.,700.,600.,500.,400.,300.,200.,150.,100., 50.,30.,20.,10., 5.,0.])\n",
    "    pbot=np.array([1200.,1000.,900.,800.,700.,600.,500.,400.,300.,200.,150.,100.,50.,30.,20.,10.,5.])\n",
    "    #ptop=np.array([1000., 950.,900.,850.,800.,750.,700.,650.,600.,500.,400.,300.,200.,150.,100., 50.,30.,20.,10., 5.,0.])\n",
    "    #pbot=np.array([1200.,1000.,950.,900.,850.,800.,750.,700.,650.,600.,500.,400.,300.,200.,150.,100.,50.,30.,20.,10.,5.])\n",
    "#elif obs_var == 'q':\n",
    "#    ptop=np.array([1000., 950.,900.,850.,800.,700.,600.,500.,400.,300.,200.,100.])\n",
    "#    pbot=np.array([1200.,1000.,950.,900.,850.,800.,700.,600.,500.,400.,300.,200.])    \n",
    "elif obs_var == 'gps':\n",
    "    ptop=np.array([1000., 900.,800.,600.,400.,300.,250.,200.,150.,100., 50.,30.,20.,10., 7.,5.,3.,2.,1.,0.])\n",
    "    pbot=np.array([1200.,1000.,900.,800.,600.,400.,300.,250.,200.,150.,100.,50.,30.,20.,10.,7.,5.,3.,2.,1.])\n",
    "\n",
    "g_center_lev = 0.5*(ptop+pbot)\n",
    "g_center_lev[0] = 1010\n",
    "\n",
    "g_center_lat = 0.5*(latu+latd)\n",
    "glev, glat = np.meshgrid(g_center_lev, g_center_lat)\n",
    "\n",
    "omaavg = np.zeros(glev.shape)\n",
    "omastd = np.zeros(glev.shape)\n",
    "count  = np.zeros(glev.shape) "
   ]
  },
  {
   "cell_type": "code",
   "execution_count": 6,
   "id": "e0997031-b4e7-478f-ab1b-9a8382a477bf",
   "metadata": {
    "tags": []
   },
   "outputs": [
    {
     "name": "stderr",
     "output_type": "stream",
     "text": [
      "/home/Chih-Chi.Hu/.local/lib/python3.8/site-packages/numpy/ma/core.py:5317: RuntimeWarning: Mean of empty slice.\n",
      "  result = super().mean(axis=axis, dtype=dtype, **kwargs)[()]\n",
      "/home/Chih-Chi.Hu/.local/lib/python3.8/site-packages/numpy/core/_methods.py:184: RuntimeWarning: invalid value encountered in divide\n",
      "  ret = um.true_divide(\n",
      "/home/Chih-Chi.Hu/.local/lib/python3.8/site-packages/numpy/ma/core.py:5400: RuntimeWarning: Degrees of freedom <= 0 for slice\n",
      "  ret = super().var(axis=axis, dtype=dtype, out=out, ddof=ddof,\n",
      "/home/Chih-Chi.Hu/.local/lib/python3.8/site-packages/numpy/core/_methods.py:226: RuntimeWarning: invalid value encountered in divide\n",
      "  arrmean = um.true_divide(arrmean, div, out=arrmean,\n",
      "/home/Chih-Chi.Hu/.local/lib/python3.8/site-packages/numpy/core/_methods.py:258: RuntimeWarning: invalid value encountered in divide\n",
      "  ret = um.true_divide(\n",
      "/tmp/ipykernel_33990/2863040913.py:16: UserWarning: Warning: converting a masked element to nan.\n",
      "  omastd[j,i] = np.std(omf_tmp[select_obs])\n"
     ]
    }
   ],
   "source": [
    "# zonal mean:\n",
    "\n",
    "exptest = 'bc1_inf'\n",
    "expref  = 'bc0_inf'\n",
    "\n",
    "for i, zz in enumerate(ptop):\n",
    "    for j, yy in enumerate(latu):\n",
    "        lat_tmp = lats[exptest]\n",
    "        lev_tmp = ps[exptest]\n",
    "        omf_tmp = omfs[expref] \n",
    "        #omf_tmp = omfs[expref] - omfs[exptest]      \n",
    "        select_obs = (lat_tmp >= latd[j]) & (lat_tmp < latu[j]) & (lev_tmp <= pbot[i]) & (lev_tmp > ptop[i]) \n",
    "        \n",
    "        count[j,i]  = len(select_obs)\n",
    "        omaavg[j,i] = np.mean(omf_tmp[select_obs])\n",
    "        omastd[j,i] = np.std(omf_tmp[select_obs])"
   ]
  },
  {
   "cell_type": "code",
   "execution_count": 7,
   "id": "ff5f9049-4f8e-456b-8581-c1184612f949",
   "metadata": {
    "tags": []
   },
   "outputs": [
    {
     "data": {
      "text/plain": [
       "\"\\nif pltvars == 'T':\\n    cbar.set_label('$\\\\Delta T(K)$', fontsize=14)\\nelif pltvars == 'HUM':\\n    cbar.set_label('$\\\\Delta q (g/kg)$', fontsize=14)\\n\""
      ]
     },
     "execution_count": 7,
     "metadata": {},
     "output_type": "execute_result"
    },
    {
     "data": {
      "image/png": "[encoded data removed]",
      "text/plain": [
       "<Figure size 900x400 with 2 Axes>"
      ]
     },
     "metadata": {},
     "output_type": "display_data"
    }
   ],
   "source": [
    "v_min = -2\n",
    "v_max =  2\n",
    "\n",
    "\n",
    "fig, ax = plt.subplots(figsize=(9,4))\n",
    "#contour1=ax.contourf(lats, levs, plt_cont_var, cmap='RdBu_r', levels=plt_levs)\n",
    "contour1=ax.pcolormesh(glat, glev, omaavg, cmap='RdBu_r', vmin=v_min, vmax=v_max)\n",
    "\n",
    "ax.set_ylim(ax.get_ylim()[::-1])\n",
    "ax.set_xlabel('latitude',fontsize=14)\n",
    "ax.set_ylabel('(hPa)',fontsize=14)\n",
    "ax.tick_params(axis='x', labelsize=14)  # Set the size to 14 points\n",
    "ax.tick_params(axis='y', labelsize=14)  # Set the size to 14 points\n",
    "ax.grid(True)\n",
    "#ax.set_title(f'{pltvars} increment ({exptest} - {expref})',fontsize=15)\n",
    "#ax.set_title(f'{pltvars} increment ({expref})',fontsize=15)\n",
    "\n",
    "cbar = fig.colorbar(contour1,location='right',aspect=30)\n",
    "\n",
    "'''\n",
    "if pltvars == 'T':\n",
    "    cbar.set_label('$\\Delta T(K)$', fontsize=14)\n",
    "elif pltvars == 'HUM':\n",
    "    cbar.set_label('$\\Delta q (g/kg)$', fontsize=14)\n",
    "'''\n",
    "#plt.savefig(f'{pltvars}_inc_{exptest}_minus_{expref}.png', dpi=200, bbox_inches='tight')"
   ]
  },
  {
   "cell_type": "code",
   "execution_count": null,
   "id": "502a19bf-b4b7-4f4e-9de8-53839c69219c",
   "metadata": {},
   "outputs": [],
   "source": []
  },
  {
   "cell_type": "code",
   "execution_count": null,
   "id": "a45ab2d2-8798-49a0-9405-5de81744db3d",
   "metadata": {},
   "outputs": [],
   "source": []
  },
  {
   "cell_type": "code",
   "execution_count": null,
   "id": "3655a887-7cb9-440f-b4ee-fcf12a93e087",
   "metadata": {},
   "outputs": [],
   "source": []
  },
  {
   "cell_type": "code",
   "execution_count": null,
   "id": "d34590af-f5c3-4a56-9176-95ad8bed8e52",
   "metadata": {},
   "outputs": [],
   "source": []
  },
  {
   "cell_type": "code",
   "execution_count": null,
   "id": "38a7630c-6732-4952-9533-7cb6a7119ef0",
   "metadata": {
    "tags": []
   },
   "outputs": [],
   "source": [
    "\n",
    "expid1='CTRL' \n",
    "expid2='CTRL_no_situ'\n",
    "savefig = True\n",
    "\n",
    "#for i in range(1):\n",
    "for i in range(len(meshinfo['levs'])):\n",
    "    tmp1 = meshinfo['mesh'][expid1][i]\n",
    "    tmp1[np.where(tmp1== -99999.)] = np.nan\n",
    "\n",
    "    tmp2 = meshinfo['mesh'][expid2][i]\n",
    "    tmp2[np.where(tmp2== -99999.)] = np.nan\n",
    "\n",
    "    # Plot 1 -- the mean OmF for exp1 \n",
    "    tmp = tmp1\n",
    "    q25 = np.nanquantile(tmp, 0.25)\n",
    "    q75 = np.nanquantile(tmp, 0.75)\n",
    "    pltrange = 6*0.5*( np.abs(q25) + np.abs(q75)) \n",
    "    \n",
    "    fig, ax = plt.subplots(subplot_kw={'projection': ccrs.PlateCarree()},figsize=(14,10))\n",
    "\n",
    "    ax.coastlines()\n",
    "    if obs_var == 'q':\n",
    "        contour = ax.pcolormesh(meshinfo['lon'], meshinfo['lat'], tmp, cmap='BrBG_r', vmin=-pltrange, vmax=pltrange)\n",
    "    else:\n",
    "        contour = ax.pcolormesh(meshinfo['lon'], meshinfo['lat'], tmp, cmap='RdBu', vmin=-pltrange, vmax=pltrange)\n",
    "\n",
    "    cbar = plt.colorbar(contour, ax=ax, extend='both', orientation='vertical', shrink=0.45) # Adjust the shrink parameter as needed\n",
    "    gl = ax.gridlines(draw_labels=True)\n",
    "    gl.top_labels = False\n",
    "    gl.right_labels = False\n",
    "    gl.xformatter = LONGITUDE_FORMATTER\n",
    "    gl.yformatter = LATITUDE_FORMATTER\n",
    "    if i==0:\n",
    "        lev_bot = 1000\n",
    "        lev_top = 1000\n",
    "        ax.set_title(f'{obs_var_long_name} mean (OBS-{expid1}) [>= 1000 hPa] ',fontsize=14)\n",
    "    else:\n",
    "        if obs_var == 't':\n",
    "            lev_bot = pbot[i]\n",
    "            lev_top = ptop[i]\n",
    "        elif obs_var == 'q':\n",
    "            lev_bot = pbotq[i]\n",
    "            lev_top = ptopq[i]\n",
    "        elif obs_var == 'gps':\n",
    "            lev_bot = pbotgps[i]\n",
    "            lev_top = ptopgps[i]\n",
    "            \n",
    "        ax.set_title(f'{obs_var_long_name} mean (OBS-{expid1}) [{lev_bot:.0f} - {lev_top:.0f} hPa] ',fontsize=14)\n",
    "\n",
    "    if savefig:\n",
    "        plt.savefig(f'cnv_{obs_var}_mesh_omb_{expid1}_{lev_bot}-{lev_top}.png', dpi=200, bbox_inches='tight')\n",
    "\n",
    "\n",
    "\n",
    "    # Plot 2 -- the mean OmF(exp1) - OmF(exp2) = exp2 - exp1 \n",
    "    \n",
    "    tmp = tmp1-tmp2\n",
    "    q25 = np.nanquantile(tmp, 0.25)\n",
    "    q75 = np.nanquantile(tmp, 0.75)\n",
    "    pltrange = 6*0.5*( np.abs(q25) + np.abs(q75)) \n",
    "    \n",
    "    fig, ax = plt.subplots(subplot_kw={'projection': ccrs.PlateCarree()},figsize=(14,10))\n",
    "\n",
    "    ax.coastlines()\n",
    "    if obs_var == 'q':\n",
    "        contour = ax.pcolormesh(meshinfo['lon'], meshinfo['lat'], tmp, cmap='BrBG', vmin=-pltrange, vmax=pltrange)\n",
    "    else:\n",
    "        contour = ax.pcolormesh(meshinfo['lon'], meshinfo['lat'], tmp, cmap='RdBu_r', vmin=-pltrange, vmax=pltrange)\n",
    "        \n",
    "    cbar = plt.colorbar(contour, ax=ax, extend='both', orientation='vertical', shrink=0.45) # Adjust the shrink parameter as needed\n",
    "    gl = ax.gridlines(draw_labels=True)\n",
    "    gl.top_labels = False\n",
    "    gl.right_labels = False\n",
    "    gl.xformatter = LONGITUDE_FORMATTER\n",
    "    gl.yformatter = LATITUDE_FORMATTER\n",
    "    if i==0:\n",
    "        lev_bot = 1000\n",
    "        lev_top = 1000\n",
    "        ax.set_title(f'{obs_var_long_name} mean ({expid2}-{expid1}) [>= 1000 hPa] ',fontsize=14)\n",
    "    else:\n",
    "        if obs_var == 't':\n",
    "            lev_bot = pbot[i]\n",
    "            lev_top = ptop[i]\n",
    "        elif obs_var == 'q':\n",
    "            lev_bot = pbotq[i]\n",
    "            lev_top = ptopq[i]\n",
    "        elif obs_var == 'gps':\n",
    "            lev_bot = pbotgps[i]\n",
    "            lev_top = ptopgps[i]\n",
    "        ax.set_title(f'{obs_var_long_name} mean ({expid2}-{expid1}) [{lev_bot:.0f} - {lev_top:.0f} hPa] ',fontsize=14)\n",
    "        \n",
    "    if savefig:\n",
    "        plt.savefig(f'cnv_{obs_var}_{expid2}_minus_{expid1}_{lev_bot}-{lev_top}.png', dpi=200, bbox_inches='tight')     \n",
    "\n",
    "    # Plot 3 -- improve-or-not plot \n",
    "    \n",
    "    test = (tmp1-tmp2)*tmp1\n",
    "    tmp  = test/np.abs(test)\n",
    "    q25 = np.nanquantile(tmp, 0.25)\n",
    "    q75 = np.nanquantile(tmp, 0.75)\n",
    "    pltrange = 1.2 \n",
    "    \n",
    "    fig, ax = plt.subplots(subplot_kw={'projection': ccrs.PlateCarree()},figsize=(14,10))\n",
    "\n",
    "    ax.coastlines()\n",
    "    contour = ax.pcolormesh(meshinfo['lon'], meshinfo['lat'], tmp, cmap='RdBu_r', vmin=-pltrange, vmax=pltrange)\n",
    "        \n",
    "    cbar = plt.colorbar(contour, ax=ax, extend='both', orientation='vertical', shrink=0.45) # Adjust the shrink parameter as needed\n",
    "    gl = ax.gridlines(draw_labels=True)\n",
    "    gl.top_labels = False\n",
    "    gl.right_labels = False\n",
    "    gl.xformatter = LONGITUDE_FORMATTER\n",
    "    gl.yformatter = LATITUDE_FORMATTER\n",
    "    if i==0:\n",
    "        lev_bot = 1000\n",
    "        lev_top = 1000\n",
    "        ax.set_title(f'{obs_var_long_name} sign({expid2}-{expid1}, OBS-{expid1}) [>= 1000 hPa] ',fontsize=14)\n",
    "    else:\n",
    "        if obs_var == 't':\n",
    "            lev_bot = pbot[i]\n",
    "            lev_top = ptop[i]\n",
    "        elif obs_var == 'q':\n",
    "            lev_bot = pbotq[i]\n",
    "            lev_top = ptopq[i]\n",
    "        elif obs_var == 'gps':\n",
    "            lev_bot = pbotgps[i]\n",
    "            lev_top = ptopgps[i]\n",
    "            \n",
    "        ax.set_title(f'{obs_var_long_name} sign({expid2}-{expid1}, OBS-{expid1}) [{lev_bot:.0f} - {lev_top:.0f} hPa] ',fontsize=14)\n",
    "        \n",
    "    if savefig:\n",
    "        plt.savefig(f'cnv_{obs_var}_if_{expid2}_better_than_{expid1}_{lev_bot}-{lev_top}.png', dpi=200, bbox_inches='tight')  "
   ]
  },
  {
   "cell_type": "code",
   "execution_count": null,
   "id": "1efda5b5-8038-4efa-b0a4-2e587e614caa",
   "metadata": {},
   "outputs": [],
   "source": []
  },
  {
   "cell_type": "code",
   "execution_count": null,
   "id": "4a3db9c6-d8e5-4aad-96bf-cb3fd33b6948",
   "metadata": {
    "tags": []
   },
   "outputs": [],
   "source": [
    "meshinfo['levs']"
   ]
  },
  {
   "cell_type": "code",
   "execution_count": null,
   "id": "29982e4c-8039-4c79-a25f-1ba3db160dbb",
   "metadata": {},
   "outputs": [],
   "source": []
  }
 ],
 "metadata": {
  "kernelspec": {
   "display_name": "Python 3 (ipykernel)",
   "language": "python",
   "name": "python3"
  },
  "language_info": {
   "codemirror_mode": {
    "name": "ipython",
    "version": 3
   },
   "file_extension": ".py",
   "mimetype": "text/x-python",
   "name": "python",
   "nbconvert_exporter": "python",
   "pygments_lexer": "ipython3",
   "version": "3.8.18"
  }
 },
 "nbformat": 4,
 "nbformat_minor": 5
}
